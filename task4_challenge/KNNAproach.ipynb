{
 "cells": [
  {
   "cell_type": "code",
   "execution_count": 1,
   "metadata": {},
   "outputs": [
    {
     "name": "stdout",
     "output_type": "stream",
     "text": [
      "Hi!\n"
     ]
    }
   ],
   "source": [
    "print(\"Hi!\")"
   ]
  },
  {
   "cell_type": "code",
   "execution_count": 20,
   "metadata": {},
   "outputs": [],
   "source": [
    "import numpy as np\n",
    "import pandas as pd\n",
    "from sklearn.manifold import TSNE ,MDS, LocallyLinearEmbedding,Isomap\n",
    "from sklearn.decomposition import PCA\n",
    "import matplotlib.pyplot as plt\n",
    "import h5py\n",
    "from sklearn.feature_selection import SelectKBest, f_classif, mutual_info_classif,SelectKBest,SelectFdr,f_regression\n",
    "from sklearn.neighbors import KNeighborsClassifier as KNN\n",
    "from sklearn.ensemble import RandomForestClassifier as RF\n",
    "from sklearn.neural_network import MLPClassifier as MLPC"
   ]
  },
  {
   "cell_type": "code",
   "execution_count": 3,
   "metadata": {},
   "outputs": [],
   "source": [
    "df = pd.read_csv(\"datasets/phase_3_TRAIN_7d499bff69ca69b6_6372c3e_MLPC2021_generic.csv\")\n",
    "df_challenge=pd.read_csv(\"datasets/phase_4_CHALLENGE_f042c3290b44b1ef_e2a955e_MLPC2021_generic.csv\")"
   ]
  },
  {
   "cell_type": "code",
   "execution_count": 4,
   "metadata": {},
   "outputs": [],
   "source": [
    "# drop target value, student annotations and string ID from input features:\n",
    "X = df.drop(columns=['quadrant','mean_A','mean_V','id','score_mode','score_key_strength', 'quadrant'])\n",
    "\n",
    "# we want to predict the quadrant:\n",
    "y = df['quadrant']"
   ]
  },
  {
   "cell_type": "code",
   "execution_count": 5,
   "metadata": {},
   "outputs": [
    {
     "name": "stdout",
     "output_type": "stream",
     "text": [
      "(1190, 87)\n"
     ]
    },
    {
     "data": {
      "text/html": [
       "<div>\n",
       "<style scoped>\n",
       "    .dataframe tbody tr th:only-of-type {\n",
       "        vertical-align: middle;\n",
       "    }\n",
       "\n",
       "    .dataframe tbody tr th {\n",
       "        vertical-align: top;\n",
       "    }\n",
       "\n",
       "    .dataframe thead th {\n",
       "        text-align: right;\n",
       "    }\n",
       "</style>\n",
       "<table border=\"1\" class=\"dataframe\">\n",
       "  <thead>\n",
       "    <tr style=\"text-align: right;\">\n",
       "      <th></th>\n",
       "      <th>essentia_dissonance_mean</th>\n",
       "      <th>essentia_dissonance_stdev</th>\n",
       "      <th>essentia_dynamic_complexity</th>\n",
       "      <th>essentia_loudness</th>\n",
       "      <th>essentia_onset_rate</th>\n",
       "      <th>essentia_pitch_salience_mean</th>\n",
       "      <th>essentia_pitch_salience_stdev</th>\n",
       "      <th>essentia_spectral_centroid_mean</th>\n",
       "      <th>essentia_spectral_centroid_stdev</th>\n",
       "      <th>essentia_spectral_complexity_mean</th>\n",
       "      <th>...</th>\n",
       "      <th>librosa_spectral_bandwidth_stdev</th>\n",
       "      <th>librosa_spectral_flatness_mean</th>\n",
       "      <th>librosa_spectral_flatness_stdev</th>\n",
       "      <th>midlevel_features_melody</th>\n",
       "      <th>midlevel_features_articulation</th>\n",
       "      <th>midlevel_features_rhythm_complexity</th>\n",
       "      <th>midlevel_features_rhythm_stability</th>\n",
       "      <th>midlevel_features_dissonance</th>\n",
       "      <th>midlevel_features_tonal_stability</th>\n",
       "      <th>midlevel_features_minorness</th>\n",
       "    </tr>\n",
       "  </thead>\n",
       "  <tbody>\n",
       "    <tr>\n",
       "      <th>0</th>\n",
       "      <td>0.095044</td>\n",
       "      <td>0.059303</td>\n",
       "      <td>4.363222</td>\n",
       "      <td>16.255108</td>\n",
       "      <td>3.3</td>\n",
       "      <td>0.483711</td>\n",
       "      <td>0.105291</td>\n",
       "      <td>791.174255</td>\n",
       "      <td>178.507248</td>\n",
       "      <td>1.526072</td>\n",
       "      <td>...</td>\n",
       "      <td>377.285879</td>\n",
       "      <td>0.000013</td>\n",
       "      <td>0.000015</td>\n",
       "      <td>0.274462</td>\n",
       "      <td>-0.171781</td>\n",
       "      <td>-0.279024</td>\n",
       "      <td>-0.041689</td>\n",
       "      <td>-0.439434</td>\n",
       "      <td>0.348059</td>\n",
       "      <td>-0.124695</td>\n",
       "    </tr>\n",
       "    <tr>\n",
       "      <th>1</th>\n",
       "      <td>0.125889</td>\n",
       "      <td>0.057642</td>\n",
       "      <td>3.058106</td>\n",
       "      <td>91.297142</td>\n",
       "      <td>3.4</td>\n",
       "      <td>0.469212</td>\n",
       "      <td>0.123577</td>\n",
       "      <td>768.057068</td>\n",
       "      <td>183.266342</td>\n",
       "      <td>3.728853</td>\n",
       "      <td>...</td>\n",
       "      <td>139.438996</td>\n",
       "      <td>0.000004</td>\n",
       "      <td>0.000004</td>\n",
       "      <td>0.234305</td>\n",
       "      <td>-0.117186</td>\n",
       "      <td>-0.198679</td>\n",
       "      <td>-0.015025</td>\n",
       "      <td>-0.399393</td>\n",
       "      <td>0.271292</td>\n",
       "      <td>0.000887</td>\n",
       "    </tr>\n",
       "    <tr>\n",
       "      <th>2</th>\n",
       "      <td>0.122135</td>\n",
       "      <td>0.059374</td>\n",
       "      <td>4.632260</td>\n",
       "      <td>10.177483</td>\n",
       "      <td>1.7</td>\n",
       "      <td>0.522440</td>\n",
       "      <td>0.098636</td>\n",
       "      <td>1356.725464</td>\n",
       "      <td>426.218903</td>\n",
       "      <td>0.922364</td>\n",
       "      <td>...</td>\n",
       "      <td>707.562829</td>\n",
       "      <td>0.000413</td>\n",
       "      <td>0.000438</td>\n",
       "      <td>0.222005</td>\n",
       "      <td>-0.322692</td>\n",
       "      <td>-0.355091</td>\n",
       "      <td>-0.094171</td>\n",
       "      <td>-0.361397</td>\n",
       "      <td>0.316675</td>\n",
       "      <td>-0.061305</td>\n",
       "    </tr>\n",
       "    <tr>\n",
       "      <th>3</th>\n",
       "      <td>0.166465</td>\n",
       "      <td>0.066223</td>\n",
       "      <td>2.765269</td>\n",
       "      <td>171.956894</td>\n",
       "      <td>4.8</td>\n",
       "      <td>0.585742</td>\n",
       "      <td>0.111520</td>\n",
       "      <td>835.932190</td>\n",
       "      <td>188.463242</td>\n",
       "      <td>6.529548</td>\n",
       "      <td>...</td>\n",
       "      <td>268.468795</td>\n",
       "      <td>0.000031</td>\n",
       "      <td>0.000038</td>\n",
       "      <td>0.041983</td>\n",
       "      <td>0.241189</td>\n",
       "      <td>-0.061846</td>\n",
       "      <td>0.018584</td>\n",
       "      <td>-0.234124</td>\n",
       "      <td>0.260259</td>\n",
       "      <td>-0.243865</td>\n",
       "    </tr>\n",
       "    <tr>\n",
       "      <th>4</th>\n",
       "      <td>0.144430</td>\n",
       "      <td>0.062011</td>\n",
       "      <td>3.318031</td>\n",
       "      <td>167.648773</td>\n",
       "      <td>2.8</td>\n",
       "      <td>0.566918</td>\n",
       "      <td>0.112361</td>\n",
       "      <td>688.516968</td>\n",
       "      <td>182.695404</td>\n",
       "      <td>5.961761</td>\n",
       "      <td>...</td>\n",
       "      <td>119.744602</td>\n",
       "      <td>0.000004</td>\n",
       "      <td>0.000003</td>\n",
       "      <td>0.069976</td>\n",
       "      <td>-0.157599</td>\n",
       "      <td>-0.267475</td>\n",
       "      <td>-0.074170</td>\n",
       "      <td>-0.220617</td>\n",
       "      <td>0.290546</td>\n",
       "      <td>0.022956</td>\n",
       "    </tr>\n",
       "  </tbody>\n",
       "</table>\n",
       "<p>5 rows × 87 columns</p>\n",
       "</div>"
      ],
      "text/plain": [
       "   essentia_dissonance_mean  essentia_dissonance_stdev  \\\n",
       "0                  0.095044                   0.059303   \n",
       "1                  0.125889                   0.057642   \n",
       "2                  0.122135                   0.059374   \n",
       "3                  0.166465                   0.066223   \n",
       "4                  0.144430                   0.062011   \n",
       "\n",
       "   essentia_dynamic_complexity  essentia_loudness  essentia_onset_rate  \\\n",
       "0                     4.363222          16.255108                  3.3   \n",
       "1                     3.058106          91.297142                  3.4   \n",
       "2                     4.632260          10.177483                  1.7   \n",
       "3                     2.765269         171.956894                  4.8   \n",
       "4                     3.318031         167.648773                  2.8   \n",
       "\n",
       "   essentia_pitch_salience_mean  essentia_pitch_salience_stdev  \\\n",
       "0                      0.483711                       0.105291   \n",
       "1                      0.469212                       0.123577   \n",
       "2                      0.522440                       0.098636   \n",
       "3                      0.585742                       0.111520   \n",
       "4                      0.566918                       0.112361   \n",
       "\n",
       "   essentia_spectral_centroid_mean  essentia_spectral_centroid_stdev  \\\n",
       "0                       791.174255                        178.507248   \n",
       "1                       768.057068                        183.266342   \n",
       "2                      1356.725464                        426.218903   \n",
       "3                       835.932190                        188.463242   \n",
       "4                       688.516968                        182.695404   \n",
       "\n",
       "   essentia_spectral_complexity_mean  ...  librosa_spectral_bandwidth_stdev  \\\n",
       "0                           1.526072  ...                        377.285879   \n",
       "1                           3.728853  ...                        139.438996   \n",
       "2                           0.922364  ...                        707.562829   \n",
       "3                           6.529548  ...                        268.468795   \n",
       "4                           5.961761  ...                        119.744602   \n",
       "\n",
       "   librosa_spectral_flatness_mean  librosa_spectral_flatness_stdev  \\\n",
       "0                        0.000013                         0.000015   \n",
       "1                        0.000004                         0.000004   \n",
       "2                        0.000413                         0.000438   \n",
       "3                        0.000031                         0.000038   \n",
       "4                        0.000004                         0.000003   \n",
       "\n",
       "   midlevel_features_melody  midlevel_features_articulation  \\\n",
       "0                  0.274462                       -0.171781   \n",
       "1                  0.234305                       -0.117186   \n",
       "2                  0.222005                       -0.322692   \n",
       "3                  0.041983                        0.241189   \n",
       "4                  0.069976                       -0.157599   \n",
       "\n",
       "   midlevel_features_rhythm_complexity  midlevel_features_rhythm_stability  \\\n",
       "0                            -0.279024                           -0.041689   \n",
       "1                            -0.198679                           -0.015025   \n",
       "2                            -0.355091                           -0.094171   \n",
       "3                            -0.061846                            0.018584   \n",
       "4                            -0.267475                           -0.074170   \n",
       "\n",
       "   midlevel_features_dissonance  midlevel_features_tonal_stability  \\\n",
       "0                     -0.439434                           0.348059   \n",
       "1                     -0.399393                           0.271292   \n",
       "2                     -0.361397                           0.316675   \n",
       "3                     -0.234124                           0.260259   \n",
       "4                     -0.220617                           0.290546   \n",
       "\n",
       "   midlevel_features_minorness  \n",
       "0                    -0.124695  \n",
       "1                     0.000887  \n",
       "2                    -0.061305  \n",
       "3                    -0.243865  \n",
       "4                     0.022956  \n",
       "\n",
       "[5 rows x 87 columns]"
      ]
     },
     "execution_count": 5,
     "metadata": {},
     "output_type": "execute_result"
    }
   ],
   "source": [
    "df_challenge = df_challenge.drop(columns=['id'])\n",
    "print(df_challenge.shape)\n",
    "df_challenge.head()"
   ]
  },
  {
   "cell_type": "code",
   "execution_count": 6,
   "metadata": {},
   "outputs": [
    {
     "data": {
      "text/html": [
       "<div>\n",
       "<style scoped>\n",
       "    .dataframe tbody tr th:only-of-type {\n",
       "        vertical-align: middle;\n",
       "    }\n",
       "\n",
       "    .dataframe tbody tr th {\n",
       "        vertical-align: top;\n",
       "    }\n",
       "\n",
       "    .dataframe thead th {\n",
       "        text-align: right;\n",
       "    }\n",
       "</style>\n",
       "<table border=\"1\" class=\"dataframe\">\n",
       "  <thead>\n",
       "    <tr style=\"text-align: right;\">\n",
       "      <th></th>\n",
       "      <th>essentia_dissonance_mean</th>\n",
       "      <th>essentia_dissonance_stdev</th>\n",
       "      <th>essentia_dynamic_complexity</th>\n",
       "      <th>essentia_loudness</th>\n",
       "      <th>essentia_onset_rate</th>\n",
       "      <th>essentia_pitch_salience_mean</th>\n",
       "      <th>essentia_pitch_salience_stdev</th>\n",
       "      <th>essentia_spectral_centroid_mean</th>\n",
       "      <th>essentia_spectral_centroid_stdev</th>\n",
       "      <th>essentia_spectral_complexity_mean</th>\n",
       "      <th>...</th>\n",
       "      <th>librosa_spectral_bandwidth_stdev</th>\n",
       "      <th>librosa_spectral_flatness_mean</th>\n",
       "      <th>librosa_spectral_flatness_stdev</th>\n",
       "      <th>midlevel_features_melody</th>\n",
       "      <th>midlevel_features_articulation</th>\n",
       "      <th>midlevel_features_rhythm_complexity</th>\n",
       "      <th>midlevel_features_rhythm_stability</th>\n",
       "      <th>midlevel_features_dissonance</th>\n",
       "      <th>midlevel_features_tonal_stability</th>\n",
       "      <th>midlevel_features_minorness</th>\n",
       "    </tr>\n",
       "  </thead>\n",
       "  <tbody>\n",
       "    <tr>\n",
       "      <th>0</th>\n",
       "      <td>0.206445</td>\n",
       "      <td>0.131383</td>\n",
       "      <td>13.998791</td>\n",
       "      <td>58.329521</td>\n",
       "      <td>3.1</td>\n",
       "      <td>0.539736</td>\n",
       "      <td>0.193987</td>\n",
       "      <td>3367.790527</td>\n",
       "      <td>3684.124268</td>\n",
       "      <td>2.986095</td>\n",
       "      <td>...</td>\n",
       "      <td>1781.705789</td>\n",
       "      <td>0.139911</td>\n",
       "      <td>0.248388</td>\n",
       "      <td>0.065397</td>\n",
       "      <td>-0.029380</td>\n",
       "      <td>-0.303987</td>\n",
       "      <td>-0.053306</td>\n",
       "      <td>-0.325228</td>\n",
       "      <td>0.347745</td>\n",
       "      <td>-0.119278</td>\n",
       "    </tr>\n",
       "    <tr>\n",
       "      <th>1</th>\n",
       "      <td>0.145753</td>\n",
       "      <td>0.057971</td>\n",
       "      <td>3.533264</td>\n",
       "      <td>75.166183</td>\n",
       "      <td>4.2</td>\n",
       "      <td>0.476832</td>\n",
       "      <td>0.123564</td>\n",
       "      <td>1395.528809</td>\n",
       "      <td>401.987610</td>\n",
       "      <td>4.181923</td>\n",
       "      <td>...</td>\n",
       "      <td>721.292781</td>\n",
       "      <td>0.000275</td>\n",
       "      <td>0.000484</td>\n",
       "      <td>0.353040</td>\n",
       "      <td>-0.073957</td>\n",
       "      <td>-0.381182</td>\n",
       "      <td>0.120750</td>\n",
       "      <td>-0.479266</td>\n",
       "      <td>0.451572</td>\n",
       "      <td>-0.064252</td>\n",
       "    </tr>\n",
       "    <tr>\n",
       "      <th>2</th>\n",
       "      <td>0.149111</td>\n",
       "      <td>0.059011</td>\n",
       "      <td>3.337368</td>\n",
       "      <td>82.753929</td>\n",
       "      <td>4.3</td>\n",
       "      <td>0.457741</td>\n",
       "      <td>0.132359</td>\n",
       "      <td>1318.759644</td>\n",
       "      <td>289.306152</td>\n",
       "      <td>4.303592</td>\n",
       "      <td>...</td>\n",
       "      <td>583.569947</td>\n",
       "      <td>0.000202</td>\n",
       "      <td>0.000314</td>\n",
       "      <td>0.201885</td>\n",
       "      <td>0.016944</td>\n",
       "      <td>-0.337422</td>\n",
       "      <td>0.103853</td>\n",
       "      <td>-0.388214</td>\n",
       "      <td>0.430684</td>\n",
       "      <td>-0.226197</td>\n",
       "    </tr>\n",
       "    <tr>\n",
       "      <th>3</th>\n",
       "      <td>0.163914</td>\n",
       "      <td>0.057474</td>\n",
       "      <td>3.078172</td>\n",
       "      <td>79.024742</td>\n",
       "      <td>4.1</td>\n",
       "      <td>0.504427</td>\n",
       "      <td>0.121134</td>\n",
       "      <td>1258.258423</td>\n",
       "      <td>262.561310</td>\n",
       "      <td>5.271147</td>\n",
       "      <td>...</td>\n",
       "      <td>575.961419</td>\n",
       "      <td>0.000202</td>\n",
       "      <td>0.000257</td>\n",
       "      <td>0.181998</td>\n",
       "      <td>-0.019165</td>\n",
       "      <td>-0.314282</td>\n",
       "      <td>0.118872</td>\n",
       "      <td>-0.335902</td>\n",
       "      <td>0.314371</td>\n",
       "      <td>-0.006619</td>\n",
       "    </tr>\n",
       "    <tr>\n",
       "      <th>4</th>\n",
       "      <td>0.157382</td>\n",
       "      <td>0.054116</td>\n",
       "      <td>2.682208</td>\n",
       "      <td>59.633064</td>\n",
       "      <td>3.9</td>\n",
       "      <td>0.503377</td>\n",
       "      <td>0.121658</td>\n",
       "      <td>1244.375122</td>\n",
       "      <td>260.756195</td>\n",
       "      <td>4.122828</td>\n",
       "      <td>...</td>\n",
       "      <td>539.887336</td>\n",
       "      <td>0.000217</td>\n",
       "      <td>0.000241</td>\n",
       "      <td>0.256362</td>\n",
       "      <td>-0.151648</td>\n",
       "      <td>-0.302913</td>\n",
       "      <td>-0.002940</td>\n",
       "      <td>-0.395495</td>\n",
       "      <td>0.368037</td>\n",
       "      <td>-0.162711</td>\n",
       "    </tr>\n",
       "  </tbody>\n",
       "</table>\n",
       "<p>5 rows × 87 columns</p>\n",
       "</div>"
      ],
      "text/plain": [
       "   essentia_dissonance_mean  essentia_dissonance_stdev  \\\n",
       "0                  0.206445                   0.131383   \n",
       "1                  0.145753                   0.057971   \n",
       "2                  0.149111                   0.059011   \n",
       "3                  0.163914                   0.057474   \n",
       "4                  0.157382                   0.054116   \n",
       "\n",
       "   essentia_dynamic_complexity  essentia_loudness  essentia_onset_rate  \\\n",
       "0                    13.998791          58.329521                  3.1   \n",
       "1                     3.533264          75.166183                  4.2   \n",
       "2                     3.337368          82.753929                  4.3   \n",
       "3                     3.078172          79.024742                  4.1   \n",
       "4                     2.682208          59.633064                  3.9   \n",
       "\n",
       "   essentia_pitch_salience_mean  essentia_pitch_salience_stdev  \\\n",
       "0                      0.539736                       0.193987   \n",
       "1                      0.476832                       0.123564   \n",
       "2                      0.457741                       0.132359   \n",
       "3                      0.504427                       0.121134   \n",
       "4                      0.503377                       0.121658   \n",
       "\n",
       "   essentia_spectral_centroid_mean  essentia_spectral_centroid_stdev  \\\n",
       "0                      3367.790527                       3684.124268   \n",
       "1                      1395.528809                        401.987610   \n",
       "2                      1318.759644                        289.306152   \n",
       "3                      1258.258423                        262.561310   \n",
       "4                      1244.375122                        260.756195   \n",
       "\n",
       "   essentia_spectral_complexity_mean  ...  librosa_spectral_bandwidth_stdev  \\\n",
       "0                           2.986095  ...                       1781.705789   \n",
       "1                           4.181923  ...                        721.292781   \n",
       "2                           4.303592  ...                        583.569947   \n",
       "3                           5.271147  ...                        575.961419   \n",
       "4                           4.122828  ...                        539.887336   \n",
       "\n",
       "   librosa_spectral_flatness_mean  librosa_spectral_flatness_stdev  \\\n",
       "0                        0.139911                         0.248388   \n",
       "1                        0.000275                         0.000484   \n",
       "2                        0.000202                         0.000314   \n",
       "3                        0.000202                         0.000257   \n",
       "4                        0.000217                         0.000241   \n",
       "\n",
       "   midlevel_features_melody  midlevel_features_articulation  \\\n",
       "0                  0.065397                       -0.029380   \n",
       "1                  0.353040                       -0.073957   \n",
       "2                  0.201885                        0.016944   \n",
       "3                  0.181998                       -0.019165   \n",
       "4                  0.256362                       -0.151648   \n",
       "\n",
       "   midlevel_features_rhythm_complexity  midlevel_features_rhythm_stability  \\\n",
       "0                            -0.303987                           -0.053306   \n",
       "1                            -0.381182                            0.120750   \n",
       "2                            -0.337422                            0.103853   \n",
       "3                            -0.314282                            0.118872   \n",
       "4                            -0.302913                           -0.002940   \n",
       "\n",
       "   midlevel_features_dissonance  midlevel_features_tonal_stability  \\\n",
       "0                     -0.325228                           0.347745   \n",
       "1                     -0.479266                           0.451572   \n",
       "2                     -0.388214                           0.430684   \n",
       "3                     -0.335902                           0.314371   \n",
       "4                     -0.395495                           0.368037   \n",
       "\n",
       "   midlevel_features_minorness  \n",
       "0                    -0.119278  \n",
       "1                    -0.064252  \n",
       "2                    -0.226197  \n",
       "3                    -0.006619  \n",
       "4                    -0.162711  \n",
       "\n",
       "[5 rows x 87 columns]"
      ]
     },
     "execution_count": 6,
     "metadata": {},
     "output_type": "execute_result"
    }
   ],
   "source": [
    "X.head()"
   ]
  },
  {
   "cell_type": "code",
   "execution_count": 7,
   "metadata": {},
   "outputs": [],
   "source": [
    "#create tags_dataframe:\n",
    "X_tags=pd.DataFrame()\n",
    "X_tags['id']=df['id']\n",
    "\n",
    "\n",
    "#extract piece_id and pianist to later allow by piece/pianist/both cross validation\n",
    "def extractPianist(x):\n",
    "    return x[0:2]\n",
    "def extract_piece_id(x):\n",
    "    return x[3:5]\n",
    "def extract_snippet_number(x):\n",
    "    return x[6:9]\n",
    "\n",
    "#get relevant information from dataframe\n",
    "X_tags['Piece_id']=X_tags['id'].apply(extract_piece_id)\n",
    "X_tags['Snippet_number']=X_tags['id'].apply(extract_snippet_number)\n",
    "X_tags['class']=df['quadrant']\n",
    "\n",
    "#get list of pianists and pieces!\n",
    "piece_list=list(set(X_tags['Piece_id']))"
   ]
  },
  {
   "cell_type": "code",
   "execution_count": 8,
   "metadata": {},
   "outputs": [
    {
     "data": {
      "text/plain": [
       "[[9, 0, 0, 0],\n",
       " [18, 0, 0, 0],\n",
       " [31, 0, 0, 0],\n",
       " [18, 0, 0, 0],\n",
       " [22, 0, 0, 0],\n",
       " [9, 0, 0, 0],\n",
       " [26, 0, 0, 0],\n",
       " [28, 0, 0, 0],\n",
       " [37, 0, 0, 0],\n",
       " [39, 0, 0, 0],\n",
       " [86, 0, 0, 0],\n",
       " [11, 0, 0, 0],\n",
       " [44, 0, 0, 0],\n",
       " [20, 0, 0, 0],\n",
       " [84, 0, 0, 0],\n",
       " [56, 0, 0, 0],\n",
       " [55, 0, 0, 0],\n",
       " [22, 0, 0, 0],\n",
       " [43, 0, 0, 0],\n",
       " [105, 0, 0, 0],\n",
       " [26, 0, 0, 0],\n",
       " [19, 0, 0, 0],\n",
       " [40, 0, 0, 0],\n",
       " [14, 0, 0, 0],\n",
       " [29, 0, 0, 0],\n",
       " [20, 0, 0, 0],\n",
       " [19, 0, 0, 0],\n",
       " [47, 0, 0, 0],\n",
       " [39, 0, 0, 0],\n",
       " [29, 0, 0, 0],\n",
       " [74, 0, 0, 0],\n",
       " [7, 0, 0, 0],\n",
       " [42, 0, 0, 0],\n",
       " [49, 0, 0, 0],\n",
       " [33, 0, 0, 0],\n",
       " [77, 0, 0, 0]]"
      ]
     },
     "execution_count": 8,
     "metadata": {},
     "output_type": "execute_result"
    }
   ],
   "source": [
    "#get distribution of classes per piece\n",
    "piece_dist_list=[]\n",
    "piece_dist_list_perecent=[]\n",
    "for piece in piece_list:\n",
    "    mylist=[]\n",
    "    for i in range(4):\n",
    "        mylist.append(len(X_tags.loc[(X_tags['Piece_id'] == piece) & (X_tags['class']==i+1)]))\n",
    "    piece_dist_list.append(mylist)\n",
    "    mylist=[element/sum(mylist) for element in mylist]\n",
    "    piece_dist_list_perecent.append(mylist)\n",
    "piece_dist_list"
   ]
  },
  {
   "cell_type": "code",
   "execution_count": 9,
   "metadata": {},
   "outputs": [],
   "source": [
    "#selected_list=[,'15','18','29','09','18','29','03','31','22']#yes adding piece indices multiple times \n",
    "# does do upsampling\n",
    "selected_list=['14', '03', '34',  '28', '29',  '21','38','11', \n",
    "               '25',  '26', '02', '41', '15',  '36', '16', '19', '20', \n",
    "               '27', '39', '30', '24', '04', '12', '22', '35', '47', '18', \n",
    "               '45', '37']#emoved:'08',   \n",
    "Train_Snippets=[]\n",
    "#and create horizontal splits:\n",
    "for i,piece in enumerate(selected_list):\n",
    "    vetrical_mask_train=np.zeros(0).astype(int)\n",
    "\n",
    "    mask= X_tags[X_tags['Piece_id']==selected_list[i]].index.values.astype(int)\n",
    "    vetrical_mask_train=np.concatenate((vetrical_mask_train,mask), axis=0)\n",
    "\n",
    "    #print(vetrical_mask_test)\n",
    "    #print(vetrical_mask_train)\n",
    "    trainIndices=vetrical_mask_train\n",
    "    \n",
    "    [Train_Snippets.append(index) for index in trainIndices]\n"
   ]
  },
  {
   "cell_type": "code",
   "execution_count": 10,
   "metadata": {},
   "outputs": [
    {
     "name": "stdout",
     "output_type": "stream",
     "text": [
      "[1059, 0, 0, 0]\n",
      "maximum snippets 1059\n"
     ]
    }
   ],
   "source": [
    "#double_checking:\n",
    "temp_df=X_tags.iloc[Train_Snippets]\n",
    "\n",
    "#get class distributions\n",
    "class_dist_list=[]\n",
    "for i in range(4):\n",
    "    class_dist_list.append(len(temp_df.loc[temp_df['class']==i+1]))\n",
    "print(class_dist_list)\n",
    "max_snippets= max(class_dist_list)\n",
    "print(f'maximum snippets { max(class_dist_list)}')"
   ]
  },
  {
   "cell_type": "code",
   "execution_count": 11,
   "metadata": {},
   "outputs": [
    {
     "name": "stdout",
     "output_type": "stream",
     "text": [
      "2607\n",
      "520\n"
     ]
    },
    {
     "name": "stderr",
     "output_type": "stream",
     "text": [
      "<ipython-input-11-4f0453ca7d8a>:9: DeprecationWarning: `np.bool` is a deprecated alias for the builtin `bool`. To silence this warning, use `bool` by itself. Doing this will not modify any behavior and is safe. If you specifically wanted the numpy scalar type, use `np.bool_` here.\n",
      "Deprecated in NumPy 1.20; for more details and guidance: https://numpy.org/devdocs/release/1.20.0-notes.html#deprecations\n",
      "  temp_test = np.ones(len(X_tags), np.bool)\n"
     ]
    }
   ],
   "source": [
    "#creating inverse test set:\n",
    "print(len(X_tags))\n",
    "#create_indices\n",
    "indices=[]\n",
    "for i in range(len(X_tags)):\n",
    "    indices.append(i)\n",
    "\n",
    "#masking the right inidices:\n",
    "temp_test = np.ones(len(X_tags), np.bool)\n",
    "temp_test[Train_Snippets] = 0\n",
    "\n",
    "\n",
    "\n",
    "\n",
    "Test_Snippets=[b for a, b in zip(temp_test, indices) if a]\n",
    "org_Test_Snippets=Test_Snippets\n",
    "\n",
    "print(len(Test_Snippets))"
   ]
  },
  {
   "cell_type": "code",
   "execution_count": 12,
   "metadata": {},
   "outputs": [],
   "source": [
    "X_test=X.iloc[Test_Snippets]\n",
    "X_train=X.iloc[Train_Snippets]\n",
    "df_challenge#is just as it is\n",
    "\n",
    "y_train = df['quadrant'].values\n",
    "y_train=np.float32(y_train)\n",
    "\n",
    "y_test=y_train[Test_Snippets]\n",
    "y_train=y_train[Train_Snippets]\n"
   ]
  },
  {
   "cell_type": "code",
   "execution_count": null,
   "metadata": {},
   "outputs": [],
   "source": []
  },
  {
   "cell_type": "markdown",
   "metadata": {},
   "source": [
    "#### Now we use SelectKBest + TSNE +KNN for prediction:"
   ]
  },
  {
   "cell_type": "code",
   "execution_count": null,
   "metadata": {},
   "outputs": [],
   "source": []
  },
  {
   "cell_type": "code",
   "execution_count": 13,
   "metadata": {},
   "outputs": [],
   "source": [
    "final_score_and_prediction=[]\n"
   ]
  },
  {
   "cell_type": "code",
   "execution_count": 14,
   "metadata": {},
   "outputs": [
    {
     "data": {
      "text/plain": [
       "array([4])"
      ]
     },
     "execution_count": 14,
     "metadata": {},
     "output_type": "execute_result"
    }
   ],
   "source": [
    "np.random.randint(4,20,1)\n",
    "\n"
   ]
  },
  {
   "cell_type": "code",
   "execution_count": 21,
   "metadata": {},
   "outputs": [
    {
     "name": "stdout",
     "output_type": "stream",
     "text": [
      "Started TSNE\n",
      "Start plotting\n"
     ]
    },
    {
     "data": {
      "image/png": "[encoded data removed]",
      "text/plain": [
       "<Figure size 2880x1440 with 1 Axes>"
      ]
     },
     "metadata": {
      "needs_background": "light"
     },
     "output_type": "display_data"
    },
    {
     "name": "stdout",
     "output_type": "stream",
     "text": [
      "0.5440151994933502 with k=1\n",
      "Started TSNE\n",
      "Start plotting\n"
     ]
    },
    {
     "ename": "KeyboardInterrupt",
     "evalue": "",
     "output_type": "error",
     "traceback": [
      "\u001b[1;31m---------------------------------------------------------------------------\u001b[0m",
      "\u001b[1;31mKeyboardInterrupt\u001b[0m                         Traceback (most recent call last)",
      "\u001b[1;32m<ipython-input-21-889c4ddf97c5>\u001b[0m in \u001b[0;36m<module>\u001b[1;34m\u001b[0m\n\u001b[0;32m     63\u001b[0m               'k']\n\u001b[0;32m     64\u001b[0m     \u001b[1;32mfor\u001b[0m \u001b[0mj\u001b[0m \u001b[1;32min\u001b[0m \u001b[0mrange\u001b[0m\u001b[1;33m(\u001b[0m\u001b[0mlen\u001b[0m\u001b[1;33m(\u001b[0m\u001b[0mproj\u001b[0m\u001b[1;33m)\u001b[0m\u001b[1;33m)\u001b[0m\u001b[1;33m:\u001b[0m\u001b[1;33m\u001b[0m\u001b[1;33m\u001b[0m\u001b[0m\n\u001b[1;32m---> 65\u001b[1;33m                 \u001b[0mplt\u001b[0m\u001b[1;33m.\u001b[0m\u001b[0mscatter\u001b[0m\u001b[1;33m(\u001b[0m\u001b[0mproj\u001b[0m\u001b[1;33m[\u001b[0m\u001b[0mj\u001b[0m\u001b[1;33m]\u001b[0m\u001b[1;33m[\u001b[0m\u001b[1;36m0\u001b[0m\u001b[1;33m]\u001b[0m\u001b[1;33m,\u001b[0m \u001b[0mproj\u001b[0m\u001b[1;33m[\u001b[0m\u001b[0mj\u001b[0m\u001b[1;33m]\u001b[0m\u001b[1;33m[\u001b[0m\u001b[1;36m1\u001b[0m\u001b[1;33m]\u001b[0m\u001b[1;33m,\u001b[0m\u001b[0mcolor\u001b[0m\u001b[1;33m=\u001b[0m\u001b[0mcolors\u001b[0m\u001b[1;33m[\u001b[0m\u001b[0my_stacked\u001b[0m\u001b[1;33m[\u001b[0m\u001b[0mj\u001b[0m\u001b[1;33m]\u001b[0m\u001b[1;33m.\u001b[0m\u001b[0mastype\u001b[0m\u001b[1;33m(\u001b[0m\u001b[0mint\u001b[0m\u001b[1;33m)\u001b[0m\u001b[1;33m-\u001b[0m\u001b[1;36m1\u001b[0m\u001b[1;33m]\u001b[0m\u001b[1;33m)\u001b[0m\u001b[1;33m\u001b[0m\u001b[1;33m\u001b[0m\u001b[0m\n\u001b[0m\u001b[0;32m     66\u001b[0m     \u001b[0mplt\u001b[0m\u001b[1;33m.\u001b[0m\u001b[0mshow\u001b[0m\u001b[1;33m(\u001b[0m\u001b[1;33m)\u001b[0m\u001b[1;33m\u001b[0m\u001b[1;33m\u001b[0m\u001b[0m\n\u001b[0;32m     67\u001b[0m \u001b[1;33m\u001b[0m\u001b[0m\n",
      "\u001b[1;32mE:\\Anaconda3\\envs\\AI\\lib\\site-packages\\matplotlib\\pyplot.py\u001b[0m in \u001b[0;36mscatter\u001b[1;34m(x, y, s, c, marker, cmap, norm, vmin, vmax, alpha, linewidths, verts, edgecolors, plotnonfinite, data, **kwargs)\u001b[0m\n\u001b[0;32m   2809\u001b[0m         \u001b[0mverts\u001b[0m\u001b[1;33m=\u001b[0m\u001b[0mcbook\u001b[0m\u001b[1;33m.\u001b[0m\u001b[0mdeprecation\u001b[0m\u001b[1;33m.\u001b[0m\u001b[0m_deprecated_parameter\u001b[0m\u001b[1;33m,\u001b[0m\u001b[1;33m\u001b[0m\u001b[1;33m\u001b[0m\u001b[0m\n\u001b[0;32m   2810\u001b[0m         edgecolors=None, *, plotnonfinite=False, data=None, **kwargs):\n\u001b[1;32m-> 2811\u001b[1;33m     __ret = gca().scatter(\n\u001b[0m\u001b[0;32m   2812\u001b[0m         \u001b[0mx\u001b[0m\u001b[1;33m,\u001b[0m \u001b[0my\u001b[0m\u001b[1;33m,\u001b[0m \u001b[0ms\u001b[0m\u001b[1;33m=\u001b[0m\u001b[0ms\u001b[0m\u001b[1;33m,\u001b[0m \u001b[0mc\u001b[0m\u001b[1;33m=\u001b[0m\u001b[0mc\u001b[0m\u001b[1;33m,\u001b[0m \u001b[0mmarker\u001b[0m\u001b[1;33m=\u001b[0m\u001b[0mmarker\u001b[0m\u001b[1;33m,\u001b[0m \u001b[0mcmap\u001b[0m\u001b[1;33m=\u001b[0m\u001b[0mcmap\u001b[0m\u001b[1;33m,\u001b[0m \u001b[0mnorm\u001b[0m\u001b[1;33m=\u001b[0m\u001b[0mnorm\u001b[0m\u001b[1;33m,\u001b[0m\u001b[1;33m\u001b[0m\u001b[1;33m\u001b[0m\u001b[0m\n\u001b[0;32m   2813\u001b[0m         \u001b[0mvmin\u001b[0m\u001b[1;33m=\u001b[0m\u001b[0mvmin\u001b[0m\u001b[1;33m,\u001b[0m \u001b[0mvmax\u001b[0m\u001b[1;33m=\u001b[0m\u001b[0mvmax\u001b[0m\u001b[1;33m,\u001b[0m \u001b[0malpha\u001b[0m\u001b[1;33m=\u001b[0m\u001b[0malpha\u001b[0m\u001b[1;33m,\u001b[0m \u001b[0mlinewidths\u001b[0m\u001b[1;33m=\u001b[0m\u001b[0mlinewidths\u001b[0m\u001b[1;33m,\u001b[0m\u001b[1;33m\u001b[0m\u001b[1;33m\u001b[0m\u001b[0m\n",
      "\u001b[1;32mE:\\Anaconda3\\envs\\AI\\lib\\site-packages\\matplotlib\\__init__.py\u001b[0m in \u001b[0;36minner\u001b[1;34m(ax, data, *args, **kwargs)\u001b[0m\n\u001b[0;32m   1563\u001b[0m     \u001b[1;32mdef\u001b[0m \u001b[0minner\u001b[0m\u001b[1;33m(\u001b[0m\u001b[0max\u001b[0m\u001b[1;33m,\u001b[0m \u001b[1;33m*\u001b[0m\u001b[0margs\u001b[0m\u001b[1;33m,\u001b[0m \u001b[0mdata\u001b[0m\u001b[1;33m=\u001b[0m\u001b[1;32mNone\u001b[0m\u001b[1;33m,\u001b[0m \u001b[1;33m**\u001b[0m\u001b[0mkwargs\u001b[0m\u001b[1;33m)\u001b[0m\u001b[1;33m:\u001b[0m\u001b[1;33m\u001b[0m\u001b[1;33m\u001b[0m\u001b[0m\n\u001b[0;32m   1564\u001b[0m         \u001b[1;32mif\u001b[0m \u001b[0mdata\u001b[0m \u001b[1;32mis\u001b[0m \u001b[1;32mNone\u001b[0m\u001b[1;33m:\u001b[0m\u001b[1;33m\u001b[0m\u001b[1;33m\u001b[0m\u001b[0m\n\u001b[1;32m-> 1565\u001b[1;33m             \u001b[1;32mreturn\u001b[0m \u001b[0mfunc\u001b[0m\u001b[1;33m(\u001b[0m\u001b[0max\u001b[0m\u001b[1;33m,\u001b[0m \u001b[1;33m*\u001b[0m\u001b[0mmap\u001b[0m\u001b[1;33m(\u001b[0m\u001b[0msanitize_sequence\u001b[0m\u001b[1;33m,\u001b[0m \u001b[0margs\u001b[0m\u001b[1;33m)\u001b[0m\u001b[1;33m,\u001b[0m \u001b[1;33m**\u001b[0m\u001b[0mkwargs\u001b[0m\u001b[1;33m)\u001b[0m\u001b[1;33m\u001b[0m\u001b[1;33m\u001b[0m\u001b[0m\n\u001b[0m\u001b[0;32m   1566\u001b[0m \u001b[1;33m\u001b[0m\u001b[0m\n\u001b[0;32m   1567\u001b[0m         \u001b[0mbound\u001b[0m \u001b[1;33m=\u001b[0m \u001b[0mnew_sig\u001b[0m\u001b[1;33m.\u001b[0m\u001b[0mbind\u001b[0m\u001b[1;33m(\u001b[0m\u001b[0max\u001b[0m\u001b[1;33m,\u001b[0m \u001b[1;33m*\u001b[0m\u001b[0margs\u001b[0m\u001b[1;33m,\u001b[0m \u001b[1;33m**\u001b[0m\u001b[0mkwargs\u001b[0m\u001b[1;33m)\u001b[0m\u001b[1;33m\u001b[0m\u001b[1;33m\u001b[0m\u001b[0m\n",
      "\u001b[1;32mE:\\Anaconda3\\envs\\AI\\lib\\site-packages\\matplotlib\\cbook\\deprecation.py\u001b[0m in \u001b[0;36mwrapper\u001b[1;34m(*args, **kwargs)\u001b[0m\n\u001b[0;32m    356\u001b[0m                 \u001b[1;34mf\"%(removal)s.  If any parameter follows {name!r}, they \"\u001b[0m\u001b[1;33m\u001b[0m\u001b[1;33m\u001b[0m\u001b[0m\n\u001b[0;32m    357\u001b[0m                 f\"should be pass as keyword, not positionally.\")\n\u001b[1;32m--> 358\u001b[1;33m         \u001b[1;32mreturn\u001b[0m \u001b[0mfunc\u001b[0m\u001b[1;33m(\u001b[0m\u001b[1;33m*\u001b[0m\u001b[0margs\u001b[0m\u001b[1;33m,\u001b[0m \u001b[1;33m**\u001b[0m\u001b[0mkwargs\u001b[0m\u001b[1;33m)\u001b[0m\u001b[1;33m\u001b[0m\u001b[1;33m\u001b[0m\u001b[0m\n\u001b[0m\u001b[0;32m    359\u001b[0m \u001b[1;33m\u001b[0m\u001b[0m\n\u001b[0;32m    360\u001b[0m     \u001b[1;32mreturn\u001b[0m \u001b[0mwrapper\u001b[0m\u001b[1;33m\u001b[0m\u001b[1;33m\u001b[0m\u001b[0m\n",
      "\u001b[1;32mE:\\Anaconda3\\envs\\AI\\lib\\site-packages\\matplotlib\\axes\\_axes.py\u001b[0m in \u001b[0;36mscatter\u001b[1;34m(self, x, y, s, c, marker, cmap, norm, vmin, vmax, alpha, linewidths, verts, edgecolors, plotnonfinite, **kwargs)\u001b[0m\n\u001b[0;32m   4453\u001b[0m                 \u001b[0mself\u001b[0m\u001b[1;33m.\u001b[0m\u001b[0mset_ymargin\u001b[0m\u001b[1;33m(\u001b[0m\u001b[1;36m0.05\u001b[0m\u001b[1;33m)\u001b[0m\u001b[1;33m\u001b[0m\u001b[1;33m\u001b[0m\u001b[0m\n\u001b[0;32m   4454\u001b[0m \u001b[1;33m\u001b[0m\u001b[0m\n\u001b[1;32m-> 4455\u001b[1;33m         \u001b[0mself\u001b[0m\u001b[1;33m.\u001b[0m\u001b[0madd_collection\u001b[0m\u001b[1;33m(\u001b[0m\u001b[0mcollection\u001b[0m\u001b[1;33m)\u001b[0m\u001b[1;33m\u001b[0m\u001b[1;33m\u001b[0m\u001b[0m\n\u001b[0m\u001b[0;32m   4456\u001b[0m         \u001b[0mself\u001b[0m\u001b[1;33m.\u001b[0m\u001b[0m_request_autoscale_view\u001b[0m\u001b[1;33m(\u001b[0m\u001b[1;33m)\u001b[0m\u001b[1;33m\u001b[0m\u001b[1;33m\u001b[0m\u001b[0m\n\u001b[0;32m   4457\u001b[0m \u001b[1;33m\u001b[0m\u001b[0m\n",
      "\u001b[1;32mE:\\Anaconda3\\envs\\AI\\lib\\site-packages\\matplotlib\\axes\\_base.py\u001b[0m in \u001b[0;36madd_collection\u001b[1;34m(self, collection, autolim)\u001b[0m\n\u001b[0;32m   1819\u001b[0m             \u001b[1;31m# pre-lazy-autoscale behavior, which is not really better).\u001b[0m\u001b[1;33m\u001b[0m\u001b[1;33m\u001b[0m\u001b[1;33m\u001b[0m\u001b[0m\n\u001b[0;32m   1820\u001b[0m             \u001b[0mself\u001b[0m\u001b[1;33m.\u001b[0m\u001b[0m_unstale_viewLim\u001b[0m\u001b[1;33m(\u001b[0m\u001b[1;33m)\u001b[0m\u001b[1;33m\u001b[0m\u001b[1;33m\u001b[0m\u001b[0m\n\u001b[1;32m-> 1821\u001b[1;33m             \u001b[0mself\u001b[0m\u001b[1;33m.\u001b[0m\u001b[0mupdate_datalim\u001b[0m\u001b[1;33m(\u001b[0m\u001b[0mcollection\u001b[0m\u001b[1;33m.\u001b[0m\u001b[0mget_datalim\u001b[0m\u001b[1;33m(\u001b[0m\u001b[0mself\u001b[0m\u001b[1;33m.\u001b[0m\u001b[0mtransData\u001b[0m\u001b[1;33m)\u001b[0m\u001b[1;33m)\u001b[0m\u001b[1;33m\u001b[0m\u001b[1;33m\u001b[0m\u001b[0m\n\u001b[0m\u001b[0;32m   1822\u001b[0m \u001b[1;33m\u001b[0m\u001b[0m\n\u001b[0;32m   1823\u001b[0m         \u001b[0mself\u001b[0m\u001b[1;33m.\u001b[0m\u001b[0mstale\u001b[0m \u001b[1;33m=\u001b[0m \u001b[1;32mTrue\u001b[0m\u001b[1;33m\u001b[0m\u001b[1;33m\u001b[0m\u001b[0m\n",
      "\u001b[1;32mE:\\Anaconda3\\envs\\AI\\lib\\site-packages\\matplotlib\\collections.py\u001b[0m in \u001b[0;36mget_datalim\u001b[1;34m(self, transData)\u001b[0m\n\u001b[0;32m    238\u001b[0m                 \u001b[1;31m# location.\u001b[0m\u001b[1;33m\u001b[0m\u001b[1;33m\u001b[0m\u001b[1;33m\u001b[0m\u001b[0m\n\u001b[0;32m    239\u001b[0m                 \u001b[1;31m# Finish the transform:\u001b[0m\u001b[1;33m\u001b[0m\u001b[1;33m\u001b[0m\u001b[1;33m\u001b[0m\u001b[0m\n\u001b[1;32m--> 240\u001b[1;33m                 offsets = (transOffset.get_affine() +\n\u001b[0m\u001b[0;32m    241\u001b[0m                            transData.inverted()).transform(offsets)\n\u001b[0;32m    242\u001b[0m                 \u001b[0moffsets\u001b[0m \u001b[1;33m=\u001b[0m \u001b[0mnp\u001b[0m\u001b[1;33m.\u001b[0m\u001b[0mma\u001b[0m\u001b[1;33m.\u001b[0m\u001b[0mmasked_invalid\u001b[0m\u001b[1;33m(\u001b[0m\u001b[0moffsets\u001b[0m\u001b[1;33m)\u001b[0m\u001b[1;33m\u001b[0m\u001b[1;33m\u001b[0m\u001b[0m\n",
      "\u001b[1;32mE:\\Anaconda3\\envs\\AI\\lib\\site-packages\\matplotlib\\transforms.py\u001b[0m in \u001b[0;36mget_affine\u001b[1;34m(self)\u001b[0m\n\u001b[0;32m   2390\u001b[0m             \u001b[1;32mreturn\u001b[0m \u001b[0mself\u001b[0m\u001b[1;33m.\u001b[0m\u001b[0m_b\u001b[0m\u001b[1;33m.\u001b[0m\u001b[0mget_affine\u001b[0m\u001b[1;33m(\u001b[0m\u001b[1;33m)\u001b[0m\u001b[1;33m\u001b[0m\u001b[1;33m\u001b[0m\u001b[0m\n\u001b[0;32m   2391\u001b[0m         \u001b[1;32melse\u001b[0m\u001b[1;33m:\u001b[0m\u001b[1;33m\u001b[0m\u001b[1;33m\u001b[0m\u001b[0m\n\u001b[1;32m-> 2392\u001b[1;33m             return Affine2D(np.dot(self._b.get_affine().get_matrix(),\n\u001b[0m\u001b[0;32m   2393\u001b[0m                                 self._a.get_affine().get_matrix()))\n\u001b[0;32m   2394\u001b[0m \u001b[1;33m\u001b[0m\u001b[0m\n",
      "\u001b[1;32mE:\\Anaconda3\\envs\\AI\\lib\\site-packages\\matplotlib\\transforms.py\u001b[0m in \u001b[0;36mget_affine\u001b[1;34m(self)\u001b[0m\n\u001b[0;32m   2390\u001b[0m             \u001b[1;32mreturn\u001b[0m \u001b[0mself\u001b[0m\u001b[1;33m.\u001b[0m\u001b[0m_b\u001b[0m\u001b[1;33m.\u001b[0m\u001b[0mget_affine\u001b[0m\u001b[1;33m(\u001b[0m\u001b[1;33m)\u001b[0m\u001b[1;33m\u001b[0m\u001b[1;33m\u001b[0m\u001b[0m\n\u001b[0;32m   2391\u001b[0m         \u001b[1;32melse\u001b[0m\u001b[1;33m:\u001b[0m\u001b[1;33m\u001b[0m\u001b[1;33m\u001b[0m\u001b[0m\n\u001b[1;32m-> 2392\u001b[1;33m             return Affine2D(np.dot(self._b.get_affine().get_matrix(),\n\u001b[0m\u001b[0;32m   2393\u001b[0m                                 self._a.get_affine().get_matrix()))\n\u001b[0;32m   2394\u001b[0m \u001b[1;33m\u001b[0m\u001b[0m\n",
      "\u001b[1;32m<__array_function__ internals>\u001b[0m in \u001b[0;36mdot\u001b[1;34m(*args, **kwargs)\u001b[0m\n",
      "\u001b[1;31mKeyboardInterrupt\u001b[0m: "
     ]
    },
    {
     "data": {
      "image/png": "[encoded data removed]",
      "text/plain": [
       "<Figure size 2880x1440 with 1 Axes>"
      ]
     },
     "metadata": {
      "needs_background": "light"
     },
     "output_type": "display_data"
    }
   ],
   "source": [
    "for i in range(100):\n",
    "    pca_dim=14\n",
    "    \n",
    "    num_selceted=5#np.random.randint(5,25,1)[0]\n",
    "    low_embeeding=2 #dimensions\n",
    "    \n",
    "\n",
    "    selector=SelectKBest(mutual_info_classif, k=num_selceted)\n",
    "    X_new = selector.fit_transform(X_train, y_train)    \n",
    "\n",
    "    \n",
    "    sel_X_train=selector.transform(X_train)\n",
    "    sel_X_chal=selector.transform(df_challenge)\n",
    "    sel_X_test=selector.transform(X_test)\n",
    "\n",
    "\n",
    "\n",
    "    #normalization\n",
    "    mean=np.sum(sel_X_train, axis=0)\n",
    "    mean+=np.sum(sel_X_chal, axis=0)\n",
    "    mean+=np.sum(sel_X_test, axis=0)\n",
    "    length=len(sel_X_train)+len(sel_X_chal)+len(sel_X_test)\n",
    "    mean=mean/length\n",
    "\n",
    "    var=np.var(sel_X_train, axis=0)\n",
    "    var+=np.var(sel_X_chal, axis=0)\n",
    "    var+=np.var(sel_X_test, axis=0)\n",
    "    std=(var/length)**1/2\n",
    "\n",
    "    #sel_X_train=np.divide(sel_X_train-mean,std)\n",
    "    #sel_X_test=np.divide(sel_X_test-mean,std)\n",
    "    #sel_X_chal=np.divide(sel_X_chal-mean,std)\n",
    "    \n",
    "    X_Stacked=np.vstack((sel_X_train,sel_X_test))\n",
    "    X_Stacked=np.vstack((X_Stacked,sel_X_chal))\n",
    "    y_stacked=np.zeros(len(y_train)+len(y_test)+len(sel_X_chal))\n",
    "    y_stacked[:]=9\n",
    "    #print(y_stacked)\n",
    "\n",
    "    for i in range(len(y_train)+len(y_test)):\n",
    "        if i<len(y_train):\n",
    "            '''\n",
    "            #optional only trying to classify 2 classe\n",
    "            if y_train[i]==2:\n",
    "                y_stacked[i]=1\n",
    "            elif y_train[i]==4:\n",
    "                y_stacked[i]=3\n",
    "            else:\n",
    "            '''\n",
    "            y_stacked[i]=y_train[i]\n",
    "        else:\n",
    "            y_stacked[i]=y_test[i-len(y_train)]+4\n",
    "\n",
    "            \n",
    "    print(\"Started TSNE\")\n",
    "    tsne=Isomap()\n",
    "    proj=tsne.fit_transform(X_Stacked,y_stacked)\n",
    "    \n",
    "    print(\"Start plotting\")\n",
    "    plt.figure(figsize=(40,20))\n",
    "    colors = ['r','y','b','g',\n",
    "              'tab:purple','tab:orange','tab:cyan','tab:green',\n",
    "              'k']\n",
    "    for j in range(len(proj)):\n",
    "                plt.scatter(proj[j][0], proj[j][1],color=colors[y_stacked[j].astype(int)-1])\n",
    "    plt.show()\n",
    "    \n",
    "    \n",
    "    #need to seperate this proection into X_train and X_test and X_challenge\n",
    "    projected_train=np.zeros((len(X_train),low_embeeding))#the 2 is here because we peojected to 2d space!\n",
    "    projected_test=np.zeros((len(X_test),low_embeeding))\n",
    "    projected_challenge=np.zeros((len(sel_X_chal),low_embeeding))\n",
    "    for i in range(len(proj)):\n",
    "        if i<len(X_train):\n",
    "            projected_train[i]=proj[i]\n",
    "        elif i<len(X_train)+len(X_test):\n",
    "            projected_test[i-len(X_train)]=proj[i]#\n",
    "        else:\n",
    "            projected_challenge[i-(len(X_train)+len(X_test))]=proj[i]\n",
    "    #print(num_selceted)\n",
    "    #print(projected_train.shape)\n",
    "    #print(projected_test.shape)\n",
    "    #print(projected_challenge.shape)\n",
    "    #print(projected_challenge)\n",
    "    #print(len(proj))\n",
    "    \n",
    "    #creating equal to original distribution in TestSet! using upsampling\n",
    "\n",
    "    #all snippets that are in the training set:\n",
    "    temp_df=X_tags.iloc[org_Test_Snippets]\n",
    "    org_temp_df=X_tags\n",
    "\n",
    "    #get class distributions\n",
    "    test_class_dist=[]\n",
    "    org_class_dist=[]\n",
    "\n",
    "    total_difference=0\n",
    "    for i in range(4):\n",
    "        org_class_dist.append(len(org_temp_df.loc[org_temp_df['class']==i+1]))\n",
    "        test_class_dist.append(len(temp_df.loc[temp_df['class']==i+1]))\n",
    "        total_difference+=(org_class_dist[i]-test_class_dist[i])\n",
    "    #print(org_class_dist)\n",
    "    #print(test_class_dist)\n",
    "    max_snippets= max(test_class_dist)\n",
    "    #print(f'maximum snippets { max(test_class_dist)}')\n",
    "\n",
    "    #randomly duplicate snippets in small classes to reach even distribution:\n",
    "\n",
    "    #generate a mask:\n",
    "    mask=np.array(range(len(projected_test)))\n",
    "    additional_test_set=[]\n",
    "    additional_y_set=[]\n",
    "    #print(total_difference)\n",
    "\n",
    "    additional_test=np.array((len(projected_test)))\n",
    "\n",
    "    for i in range(4):\n",
    "        #print(org_class_dist[i]-test_class_dist[i])\n",
    "        dup_num= org_class_dist[i]-test_class_dist[i]\n",
    "        if(dup_num>0):\n",
    "            temp_list=np.random.choice(mask, size=dup_num, replace=True)\n",
    "            #print(temp_list)\n",
    "            [additional_test_set.append(projected_test[index]) for index in temp_list]\n",
    "            [additional_y_set.append(y_test[index]) for index in temp_list]\n",
    "\n",
    "    additional_test_set=np.array(additional_test_set)\n",
    "    #print(len(additional_test_set))\n",
    "    #print(len(additional_y_set))\n",
    "    \n",
    "    X_Stacked_new=np.vstack((projected_test,additional_test_set))\n",
    "    y_stacked_new=np.zeros(len(y_test)+len(additional_y_set))\n",
    "\n",
    "    for i in range(len(y_test)+len(additional_y_set)):\n",
    "        if i<len(y_test):\n",
    "            y_stacked_new[i]=y_test[i]\n",
    "        else:\n",
    "            y_stacked_new[i]=additional_y_set[i-len(y_test)]\n",
    "            \n",
    "            \n",
    "            \n",
    "    max_score=-np.inf\n",
    "    the_k=0\n",
    "    for k in range(1,31,2):\n",
    "        knn=KNN(n_neighbors=k)\n",
    "        knn.fit(projected_train,y_train.astype(int))\n",
    "        score=knn.score(X_Stacked_new,y_stacked_new.astype(int))\n",
    "        if score > max_score:\n",
    "            max_score=score\n",
    "            challenge_prediction=knn.predict(projected_challenge)\n",
    "            the_k=k\n",
    "            \n",
    "    final_score_and_prediction.append((k,max_score,challenge_prediction))\n",
    "    print(f'{max_score} with k={the_k}')"
   ]
  },
  {
   "cell_type": "code",
   "execution_count": null,
   "metadata": {},
   "outputs": [],
   "source": [
    "'''\n",
    "plt.figure(figsize=(40,20))\n",
    "colors = ['1','1','1','1',\n",
    "          '1','1','1','1',\n",
    "          'k']\n",
    "for j in range(len(proj)):\n",
    "            plt.scatter(proj[j][0], proj[j][1],color=colors[y_stacked[j].astype(int)-1])\n",
    "plt.show()\n",
    "'''"
   ]
  },
  {
   "cell_type": "code",
   "execution_count": null,
   "metadata": {},
   "outputs": [],
   "source": []
  },
  {
   "cell_type": "markdown",
   "metadata": {},
   "source": [
    "#### to get a more accurate prediction we need to upsample the test set to the original distribution!"
   ]
  },
  {
   "cell_type": "code",
   "execution_count": null,
   "metadata": {},
   "outputs": [],
   "source": []
  },
  {
   "cell_type": "code",
   "execution_count": null,
   "metadata": {},
   "outputs": [],
   "source": []
  },
  {
   "cell_type": "code",
   "execution_count": null,
   "metadata": {},
   "outputs": [],
   "source": []
  },
  {
   "cell_type": "code",
   "execution_count": 49,
   "metadata": {},
   "outputs": [
    {
     "data": {
      "text/plain": [
       "[(-1, 0.5357821405953135, array([0, 1, 1, ..., 0, 1, 1])),\n",
       " (-1, 0.5427485750474984, array([0, 1, 1, ..., 0, 1, 1])),\n",
       " (-1, 0.5053831538948702, array([1, 0, 0, ..., 1, 1, 0])),\n",
       " (-1, 0.5433818872704244, array([0, 0, 1, ..., 0, 1, 1])),\n",
       " (-1, 0.5414819506016466, array([0, 0, 1, ..., 0, 1, 1])),\n",
       " (-1, 0.525649145028499, array([0, 0, 1, ..., 0, 1, 1])),\n",
       " (33, 0.5402153261557948, array([0, 0, 1, ..., 0, 1, 1])),\n",
       " (33, 0.5446485117162762, array([0, 0, 1, ..., 0, 1, 1])),\n",
       " (49, 0.5281823939202026, array([0, 1, 1, ..., 0, 1, 1])),\n",
       " (49, 0.5047498416719443, array([0, 0, 1, ..., 0, 1, 1])),\n",
       " (49, 0.5231158961367954, array([1, 1, 0, ..., 1, 1, 0])),\n",
       " (49, 0.5421152628245726, array([1, 0, 0, ..., 1, 1, 0])),\n",
       " (49, 0.5484483850538315, array([0, 1, 0, ..., 1, 1, 0])),\n",
       " (49, 0.5414819506016466, array([0, 1, 0, ..., 1, 1, 0])),\n",
       " (49, 0.5541481950601647, array([0, 1, 0, ..., 1, 1, 0])),\n",
       " (49, 0.5433818872704244, array([1, 1, 0, ..., 1, 1, 0])),\n",
       " (49, 0.5269157694743508, array([1, 1, 0, ..., 1, 1, 0])),\n",
       " (29, 0.5433818872704244, array([1, 1, 0, ..., 0, 1, 0])),\n",
       " (29, 0.512982900569981, array([1, 1, 1, ..., 1, 0, 1])),\n",
       " (29, 0.5275490816972768, array([0, 1, 1, ..., 0, 0, 1])),\n",
       " (29, 0.5281823939202026, array([1, 0, 0, ..., 1, 1, 0])),\n",
       " (29, 0.512982900569981, array([0, 0, 1, ..., 1, 1, 0])),\n",
       " (29, 0.5687143761874605, array([1, 0, 1, ..., 1, 0, 1])),\n",
       " (29, 0.525649145028499, array([0, 0, 0, ..., 1, 1, 0])),\n",
       " (29, 0.5604813172894236, array([0, 1, 1, ..., 0, 1, 1])),\n",
       " (29, 0.5516149461684611, array([0, 1, 0, ..., 0, 1, 1])),\n",
       " (29, 0.5205826472450918, array([1, 0, 0, ..., 1, 1, 0])),\n",
       " (29, 0.5167827739075365, array([1, 1, 0, ..., 1, 1, 0])),\n",
       " (29, 0.5357821405953135, array([1, 1, 0, ..., 1, 1, 0])),\n",
       " (29, 0.5098163394553515, array([1, 1, 0, ..., 1, 1, 0])),\n",
       " (29, 0.5408486383787207, array([1, 0, 0, ..., 0, 0, 0])),\n",
       " (29, 0.5465484483850538, array([0, 1, 0, ..., 0, 1, 0])),\n",
       " (29, 0.5414819506016466, array([0, 1, 0, ..., 0, 1, 0])),\n",
       " (29, 0.5370487650411653, array([0, 0, 0, ..., 0, 0, 0]))]"
      ]
     },
     "execution_count": 49,
     "metadata": {},
     "output_type": "execute_result"
    }
   ],
   "source": [
    "final_score_and_prediction"
   ]
  },
  {
   "cell_type": "code",
   "execution_count": 58,
   "metadata": {},
   "outputs": [
    {
     "name": "stdout",
     "output_type": "stream",
     "text": [
      "(29, 0.5687143761874605, array([1, 0, 1, ..., 1, 0, 1]))\n"
     ]
    }
   ],
   "source": [
    "best=max(final_score_and_prediction, key=lambda x:x[1])\n",
    "print(best)"
   ]
  },
  {
   "cell_type": "code",
   "execution_count": 59,
   "metadata": {},
   "outputs": [
    {
     "name": "stderr",
     "output_type": "stream",
     "text": [
      "<ipython-input-59-3b3f482645ff>:1: VisibleDeprecationWarning: Creating an ndarray from ragged nested sequences (which is a list-or-tuple of lists-or-tuples-or ndarrays with different lengths or shapes) is deprecated. If you meant to do this, you must specify 'dtype=object' when creating the ndarray.\n",
      "  best=np.array(best)\n"
     ]
    }
   ],
   "source": [
    "best=np.array(best)"
   ]
  },
  {
   "cell_type": "code",
   "execution_count": 60,
   "metadata": {},
   "outputs": [
    {
     "data": {
      "text/plain": [
       "array([1, 0, 1, ..., 1, 0, 1])"
      ]
     },
     "execution_count": 60,
     "metadata": {},
     "output_type": "execute_result"
    }
   ],
   "source": [
    "best[2]"
   ]
  },
  {
   "cell_type": "code",
   "execution_count": 61,
   "metadata": {},
   "outputs": [
    {
     "data": {
      "text/plain": [
       "0    flagellates\n",
       "1    adjudicates\n",
       "2    crowdfunded\n",
       "3    easternmost\n",
       "4    dispatchers\n",
       "Name: id, dtype: object"
      ]
     },
     "execution_count": 61,
     "metadata": {},
     "output_type": "execute_result"
    }
   ],
   "source": [
    "df_challenge=pd.read_csv(\"datasets/phase_4_CHALLENGE_f042c3290b44b1ef_e2a955e_MLPC2021_generic.csv\")['id']\n",
    "df_challenge.head()"
   ]
  },
  {
   "cell_type": "code",
   "execution_count": 62,
   "metadata": {},
   "outputs": [
    {
     "data": {
      "text/plain": [
       "'flagellates'"
      ]
     },
     "execution_count": 62,
     "metadata": {},
     "output_type": "execute_result"
    }
   ],
   "source": [
    "df_challenge[0]"
   ]
  },
  {
   "cell_type": "code",
   "execution_count": 63,
   "metadata": {},
   "outputs": [],
   "source": [
    "data=[]\n",
    "for i,pred in enumerate(best[2]):\n",
    "    data.append([df_challenge[i],pred])"
   ]
  },
  {
   "cell_type": "code",
   "execution_count": 64,
   "metadata": {},
   "outputs": [
    {
     "data": {
      "text/html": [
       "<div>\n",
       "<style scoped>\n",
       "    .dataframe tbody tr th:only-of-type {\n",
       "        vertical-align: middle;\n",
       "    }\n",
       "\n",
       "    .dataframe tbody tr th {\n",
       "        vertical-align: top;\n",
       "    }\n",
       "\n",
       "    .dataframe thead th {\n",
       "        text-align: right;\n",
       "    }\n",
       "</style>\n",
       "<table border=\"1\" class=\"dataframe\">\n",
       "  <thead>\n",
       "    <tr style=\"text-align: right;\">\n",
       "      <th></th>\n",
       "      <th>id</th>\n",
       "      <th>score_mode</th>\n",
       "    </tr>\n",
       "  </thead>\n",
       "  <tbody>\n",
       "    <tr>\n",
       "      <th>0</th>\n",
       "      <td>flagellates</td>\n",
       "      <td>1</td>\n",
       "    </tr>\n",
       "    <tr>\n",
       "      <th>1</th>\n",
       "      <td>adjudicates</td>\n",
       "      <td>0</td>\n",
       "    </tr>\n",
       "    <tr>\n",
       "      <th>2</th>\n",
       "      <td>crowdfunded</td>\n",
       "      <td>1</td>\n",
       "    </tr>\n",
       "    <tr>\n",
       "      <th>3</th>\n",
       "      <td>easternmost</td>\n",
       "      <td>1</td>\n",
       "    </tr>\n",
       "    <tr>\n",
       "      <th>4</th>\n",
       "      <td>dispatchers</td>\n",
       "      <td>1</td>\n",
       "    </tr>\n",
       "  </tbody>\n",
       "</table>\n",
       "</div>"
      ],
      "text/plain": [
       "            id  score_mode\n",
       "0  flagellates           1\n",
       "1  adjudicates           0\n",
       "2  crowdfunded           1\n",
       "3  easternmost           1\n",
       "4  dispatchers           1"
      ]
     },
     "execution_count": 64,
     "metadata": {},
     "output_type": "execute_result"
    }
   ],
   "source": [
    "df_challenge=pd.DataFrame(data, columns = ['id', 'quadrant'])\n",
    "df_challenge.head()"
   ]
  },
  {
   "cell_type": "code",
   "execution_count": 65,
   "metadata": {},
   "outputs": [],
   "source": [
    "df_challenge.to_csv(path_or_buf='quadrant.csv',index=False)"
   ]
  },
  {
   "cell_type": "code",
   "execution_count": null,
   "metadata": {},
   "outputs": [],
   "source": []
  }
 ],
 "metadata": {
  "kernelspec": {
   "display_name": "AI",
   "language": "python",
   "name": "ai"
  },
  "language_info": {
   "codemirror_mode": {
    "name": "ipython",
    "version": 3
   },
   "file_extension": ".py",
   "mimetype": "text/x-python",
   "name": "python",
   "nbconvert_exporter": "python",
   "pygments_lexer": "ipython3",
   "version": "3.7.9"
  }
 },
 "nbformat": 4,
 "nbformat_minor": 4
}
