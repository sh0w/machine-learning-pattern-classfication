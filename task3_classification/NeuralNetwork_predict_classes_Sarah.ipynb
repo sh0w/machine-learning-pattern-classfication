{
 "cells": [
  {
   "cell_type": "markdown",
   "metadata": {
    "id": "yCzlZGQlOteB"
   },
   "source": [
    "# Imports"
   ]
  },
  {
   "cell_type": "code",
   "execution_count": 4,
   "metadata": {
    "id": "NxQGJU0XPjUR"
   },
   "outputs": [],
   "source": [
    "# for working on google colab:\n",
    "#!wget -q \"https://github.com/sh0w/machine-learning-pattern-classfication/raw/main/task3_classification/dataset/dataset_with_predicted_mean_A_mean_V.csv\" -O \"dataset.csv\"\n",
    "#df = pd.read_csv(\"dataset.csv\")"
   ]
  },
  {
   "cell_type": "code",
   "execution_count": 35,
   "metadata": {
    "id": "NJhs8G6QOteD"
   },
   "outputs": [],
   "source": [
    "import numpy as np\n",
    "import pandas as pd\n",
    "\n",
    "import matplotlib.pyplot as plt\n",
    "from sklearn.neural_network import MLPClassifier\n",
    "from sklearn.model_selection import GridSearchCV, RandomizedSearchCV\n",
    "\n",
    "from sklearn.pipeline import Pipeline\n",
    "from sklearn.preprocessing import MinMaxScaler, StandardScaler\n",
    "from sklearn.feature_selection import SelectKBest"
   ]
  },
  {
   "cell_type": "code",
   "execution_count": 36,
   "metadata": {
    "id": "aqF6vOqJOteE"
   },
   "outputs": [],
   "source": [
    "\n",
    "# does not contain predicted mean_A and mean_V values:\n",
    "# df = pd.read_csv(\"dataset/phase_3_TRAIN_7d499bff69ca69b6_6372c3e_MLPC2021_generic.csv\")\n",
    "\n",
    "# contains our predicted meanA and meanV:\n",
    "df = pd.read_csv(\"dataset/dataset_with_score_mode_predicted.csv\")\n"
   ]
  },
  {
   "cell_type": "code",
   "execution_count": 37,
   "metadata": {
    "colab": {
     "base_uri": "https://localhost:8080/",
     "height": 423
    },
    "id": "JnbijofhOteE",
    "outputId": "2dbf8d28-bf05-40a6-c297-a07bde523825"
   },
   "outputs": [
    {
     "data": {
      "text/html": [
       "<div>\n",
       "<style scoped>\n",
       "    .dataframe tbody tr th:only-of-type {\n",
       "        vertical-align: middle;\n",
       "    }\n",
       "\n",
       "    .dataframe tbody tr th {\n",
       "        vertical-align: top;\n",
       "    }\n",
       "\n",
       "    .dataframe thead th {\n",
       "        text-align: right;\n",
       "    }\n",
       "</style>\n",
       "<table border=\"1\" class=\"dataframe\">\n",
       "  <thead>\n",
       "    <tr style=\"text-align: right;\">\n",
       "      <th></th>\n",
       "      <th>id</th>\n",
       "      <th>essentia_dissonance_mean</th>\n",
       "      <th>essentia_dissonance_stdev</th>\n",
       "      <th>essentia_dynamic_complexity</th>\n",
       "      <th>essentia_loudness</th>\n",
       "      <th>essentia_onset_rate</th>\n",
       "      <th>essentia_pitch_salience_mean</th>\n",
       "      <th>essentia_pitch_salience_stdev</th>\n",
       "      <th>essentia_spectral_centroid_mean</th>\n",
       "      <th>essentia_spectral_centroid_stdev</th>\n",
       "      <th>...</th>\n",
       "      <th>midlevel_features_minorness</th>\n",
       "      <th>score_mode</th>\n",
       "      <th>score_key_strength</th>\n",
       "      <th>mean_A</th>\n",
       "      <th>mean_V</th>\n",
       "      <th>quadrant</th>\n",
       "      <th>predicted_mean_A</th>\n",
       "      <th>predicted_mean_V</th>\n",
       "      <th>predicted_quadrant</th>\n",
       "      <th>predicted_score_mode</th>\n",
       "    </tr>\n",
       "  </thead>\n",
       "  <tbody>\n",
       "    <tr>\n",
       "      <th>635</th>\n",
       "      <td>FG-28-002</td>\n",
       "      <td>0.122095</td>\n",
       "      <td>0.064984</td>\n",
       "      <td>4.623885</td>\n",
       "      <td>16.808792</td>\n",
       "      <td>1.9</td>\n",
       "      <td>0.442560</td>\n",
       "      <td>0.124470</td>\n",
       "      <td>1244.223145</td>\n",
       "      <td>450.345795</td>\n",
       "      <td>...</td>\n",
       "      <td>-0.111223</td>\n",
       "      <td>1.0</td>\n",
       "      <td>0.731050</td>\n",
       "      <td>22.758621</td>\n",
       "      <td>-2.379310</td>\n",
       "      <td>3</td>\n",
       "      <td>25.401666</td>\n",
       "      <td>-3.317308</td>\n",
       "      <td>3</td>\n",
       "      <td>1</td>\n",
       "    </tr>\n",
       "    <tr>\n",
       "      <th>1305</th>\n",
       "      <td>SR-03-003</td>\n",
       "      <td>0.214142</td>\n",
       "      <td>0.055768</td>\n",
       "      <td>1.130288</td>\n",
       "      <td>419.003784</td>\n",
       "      <td>2.7</td>\n",
       "      <td>0.656047</td>\n",
       "      <td>0.088780</td>\n",
       "      <td>723.109863</td>\n",
       "      <td>95.818260</td>\n",
       "      <td>...</td>\n",
       "      <td>0.163383</td>\n",
       "      <td>1.0</td>\n",
       "      <td>0.697512</td>\n",
       "      <td>89.655172</td>\n",
       "      <td>-2.275862</td>\n",
       "      <td>2</td>\n",
       "      <td>64.835649</td>\n",
       "      <td>-1.420100</td>\n",
       "      <td>2</td>\n",
       "      <td>1</td>\n",
       "    </tr>\n",
       "    <tr>\n",
       "      <th>2247</th>\n",
       "      <td>RT-15-001</td>\n",
       "      <td>0.241415</td>\n",
       "      <td>0.092346</td>\n",
       "      <td>7.721171</td>\n",
       "      <td>17.821379</td>\n",
       "      <td>0.6</td>\n",
       "      <td>0.511267</td>\n",
       "      <td>0.120436</td>\n",
       "      <td>6452.331055</td>\n",
       "      <td>1776.684570</td>\n",
       "      <td>...</td>\n",
       "      <td>0.023106</td>\n",
       "      <td>1.0</td>\n",
       "      <td>0.708694</td>\n",
       "      <td>31.034483</td>\n",
       "      <td>-2.034483</td>\n",
       "      <td>3</td>\n",
       "      <td>22.705086</td>\n",
       "      <td>-2.024927</td>\n",
       "      <td>3</td>\n",
       "      <td>1</td>\n",
       "    </tr>\n",
       "    <tr>\n",
       "      <th>13</th>\n",
       "      <td>GG-02-000</td>\n",
       "      <td>0.137928</td>\n",
       "      <td>0.084980</td>\n",
       "      <td>5.940224</td>\n",
       "      <td>47.652794</td>\n",
       "      <td>2.8</td>\n",
       "      <td>0.378687</td>\n",
       "      <td>0.153892</td>\n",
       "      <td>2218.609131</td>\n",
       "      <td>1753.583862</td>\n",
       "      <td>...</td>\n",
       "      <td>-0.168097</td>\n",
       "      <td>0.0</td>\n",
       "      <td>0.847891</td>\n",
       "      <td>28.620690</td>\n",
       "      <td>1.413793</td>\n",
       "      <td>4</td>\n",
       "      <td>34.310774</td>\n",
       "      <td>-0.594297</td>\n",
       "      <td>3</td>\n",
       "      <td>0</td>\n",
       "    </tr>\n",
       "    <tr>\n",
       "      <th>1863</th>\n",
       "      <td>AS-16-002</td>\n",
       "      <td>0.117757</td>\n",
       "      <td>0.052556</td>\n",
       "      <td>2.940668</td>\n",
       "      <td>60.153103</td>\n",
       "      <td>2.8</td>\n",
       "      <td>0.510892</td>\n",
       "      <td>0.110120</td>\n",
       "      <td>787.357056</td>\n",
       "      <td>171.977753</td>\n",
       "      <td>...</td>\n",
       "      <td>-0.346411</td>\n",
       "      <td>1.0</td>\n",
       "      <td>0.556205</td>\n",
       "      <td>25.862069</td>\n",
       "      <td>-2.379310</td>\n",
       "      <td>3</td>\n",
       "      <td>30.251207</td>\n",
       "      <td>-3.370932</td>\n",
       "      <td>3</td>\n",
       "      <td>1</td>\n",
       "    </tr>\n",
       "  </tbody>\n",
       "</table>\n",
       "<p>5 rows × 97 columns</p>\n",
       "</div>"
      ],
      "text/plain": [
       "             id  essentia_dissonance_mean  essentia_dissonance_stdev  \\\n",
       "635   FG-28-002                  0.122095                   0.064984   \n",
       "1305  SR-03-003                  0.214142                   0.055768   \n",
       "2247  RT-15-001                  0.241415                   0.092346   \n",
       "13    GG-02-000                  0.137928                   0.084980   \n",
       "1863  AS-16-002                  0.117757                   0.052556   \n",
       "\n",
       "      essentia_dynamic_complexity  essentia_loudness  essentia_onset_rate  \\\n",
       "635                      4.623885          16.808792                  1.9   \n",
       "1305                     1.130288         419.003784                  2.7   \n",
       "2247                     7.721171          17.821379                  0.6   \n",
       "13                       5.940224          47.652794                  2.8   \n",
       "1863                     2.940668          60.153103                  2.8   \n",
       "\n",
       "      essentia_pitch_salience_mean  essentia_pitch_salience_stdev  \\\n",
       "635                       0.442560                       0.124470   \n",
       "1305                      0.656047                       0.088780   \n",
       "2247                      0.511267                       0.120436   \n",
       "13                        0.378687                       0.153892   \n",
       "1863                      0.510892                       0.110120   \n",
       "\n",
       "      essentia_spectral_centroid_mean  essentia_spectral_centroid_stdev  ...  \\\n",
       "635                       1244.223145                        450.345795  ...   \n",
       "1305                       723.109863                         95.818260  ...   \n",
       "2247                      6452.331055                       1776.684570  ...   \n",
       "13                        2218.609131                       1753.583862  ...   \n",
       "1863                       787.357056                        171.977753  ...   \n",
       "\n",
       "      midlevel_features_minorness  score_mode  score_key_strength     mean_A  \\\n",
       "635                     -0.111223         1.0            0.731050  22.758621   \n",
       "1305                     0.163383         1.0            0.697512  89.655172   \n",
       "2247                     0.023106         1.0            0.708694  31.034483   \n",
       "13                      -0.168097         0.0            0.847891  28.620690   \n",
       "1863                    -0.346411         1.0            0.556205  25.862069   \n",
       "\n",
       "        mean_V  quadrant  predicted_mean_A  predicted_mean_V  \\\n",
       "635  -2.379310         3         25.401666         -3.317308   \n",
       "1305 -2.275862         2         64.835649         -1.420100   \n",
       "2247 -2.034483         3         22.705086         -2.024927   \n",
       "13    1.413793         4         34.310774         -0.594297   \n",
       "1863 -2.379310         3         30.251207         -3.370932   \n",
       "\n",
       "      predicted_quadrant  predicted_score_mode  \n",
       "635                    3                     1  \n",
       "1305                   2                     1  \n",
       "2247                   3                     1  \n",
       "13                     3                     0  \n",
       "1863                   3                     1  \n",
       "\n",
       "[5 rows x 97 columns]"
      ]
     },
     "execution_count": 37,
     "metadata": {},
     "output_type": "execute_result"
    }
   ],
   "source": [
    "df = df.sample(frac=1, random_state=1337)\n",
    "df.head()"
   ]
  },
  {
   "cell_type": "markdown",
   "metadata": {
    "id": "4elcf0skQYRf"
   },
   "source": [
    "# Split Dataset to X and y=quadrant"
   ]
  },
  {
   "cell_type": "code",
   "execution_count": 38,
   "metadata": {
    "id": "XvM-yQ7TOteH"
   },
   "outputs": [],
   "source": [
    "# drop target value, student annotations and string ID from input features:\n",
    "# all that is left are the music features:\n",
    "X = df.drop(columns=['quadrant','mean_A','mean_V','id','score_mode','score_key_strength'])\n",
    "\n",
    "# we want to predict the QUADRANT label:\n",
    "y = df[\"quadrant\"]"
   ]
  },
  {
   "cell_type": "markdown",
   "metadata": {
    "id": "IJqAY7lOuHI-"
   },
   "source": [
    "# Perform GridSearchCV to find best parameters for a Neural Network (MLPClassifier)"
   ]
  },
  {
   "cell_type": "code",
   "execution_count": 45,
   "metadata": {
    "id": "g7dwHgEc-BkI"
   },
   "outputs": [],
   "source": [
    "\n",
    "# Define a pipeline to search for the best combination of PCA truncation\n",
    "# and classifier regularization.\n",
    "from sklearn.decomposition import PCA, KernelPCA\n",
    "\n",
    "mlp_gs = MLPClassifier(max_iter=1000)\n",
    "\n",
    "parameter_space = [{\n",
    "    'selector__k': [5,10,20,\"all\"],\n",
    "    'nn__hidden_layer_sizes': [(5,10), (10,20,10), (5,7,5), (5,7), (10,5)],\n",
    "    'nn__activation': ['tanh', 'relu', 'sigmoid'],\n",
    "    'nn__solver': ['sgd', 'adam', 'lbfgs'],\n",
    "    'nn__alpha': [0.0005, 0.005, 0.05],\n",
    "    'nn__learning_rate': ['adaptive','constant']\n",
    "}]\n",
    "\n",
    "pipeline = Pipeline([\n",
    "        (\"std_scaler\", StandardScaler()),\n",
    "        (\"selector\", SelectKBest()),\n",
    "        ('nn', mlp_gs)\n",
    "      ])\n",
    "\n"
   ]
  },
  {
   "cell_type": "code",
   "execution_count": 46,
   "metadata": {
    "colab": {
     "base_uri": "https://localhost:8080/"
    },
    "id": "QA8F0FS9IUul",
    "outputId": "76f21d4d-cf65-4269-a000-396cce06978a"
   },
   "outputs": [
    {
     "name": "stdout",
     "output_type": "stream",
     "text": [
      "Fitting 5 folds for each of 140 candidates, totalling 700 fits\n"
     ]
    },
    {
     "name": "stderr",
     "output_type": "stream",
     "text": [
      "[Parallel(n_jobs=-1)]: Using backend LokyBackend with 8 concurrent workers.\n",
      "[Parallel(n_jobs=-1)]: Done   9 tasks      | elapsed:    9.4s\n",
      "[Parallel(n_jobs=-1)]: Done  82 tasks      | elapsed:   53.8s\n",
      "[Parallel(n_jobs=-1)]: Done 205 tasks      | elapsed:  2.5min\n",
      "[Parallel(n_jobs=-1)]: Done 376 tasks      | elapsed:  5.2min\n",
      "[Parallel(n_jobs=-1)]: Done 597 tasks      | elapsed:  8.6min\n",
      "[Parallel(n_jobs=-1)]: Done 700 out of 700 | elapsed: 10.6min finished\n"
     ]
    },
    {
     "data": {
      "text/plain": [
       "RandomizedSearchCV(cv=5, error_score=nan,\n",
       "                   estimator=Pipeline(memory=None,\n",
       "                                      steps=[('std_scaler',\n",
       "                                              StandardScaler(copy=True,\n",
       "                                                             with_mean=True,\n",
       "                                                             with_std=True)),\n",
       "                                             ('selector',\n",
       "                                              SelectKBest(k=10,\n",
       "                                                          score_func=<function f_classif at 0x102bc0c20>)),\n",
       "                                             ('nn',\n",
       "                                              MLPClassifier(activation='relu',\n",
       "                                                            alpha=0.0001,\n",
       "                                                            batch_size='auto',\n",
       "                                                            beta_1=0.9,\n",
       "                                                            beta_2=0.999,\n",
       "                                                            early_stopping=False,\n",
       "                                                            epsilon=1e-08...\n",
       "                   param_distributions=[{'nn__activation': ['tanh', 'relu',\n",
       "                                                            'sigmoid'],\n",
       "                                         'nn__alpha': [0.0005, 0.005, 0.05],\n",
       "                                         'nn__hidden_layer_sizes': [(5, 10),\n",
       "                                                                    (10, 20,\n",
       "                                                                     10),\n",
       "                                                                    (5, 7, 5),\n",
       "                                                                    (5, 7),\n",
       "                                                                    (10, 5)],\n",
       "                                         'nn__learning_rate': ['adaptive',\n",
       "                                                               'constant'],\n",
       "                                         'nn__solver': ['sgd', 'adam', 'lbfgs'],\n",
       "                                         'selector__k': [5, 10, 20, 'all']}],\n",
       "                   pre_dispatch='2*n_jobs', random_state=None, refit=True,\n",
       "                   return_train_score=True, scoring=None, verbose=4)"
      ]
     },
     "execution_count": 46,
     "metadata": {},
     "output_type": "execute_result"
    }
   ],
   "source": [
    "clf_v = RandomizedSearchCV(pipeline, parameter_space, n_jobs=-1, cv=5, return_train_score=True, verbose=4, n_iter=140)\n",
    "\n",
    "clf_v.fit(X, y)"
   ]
  },
  {
   "cell_type": "code",
   "execution_count": 47,
   "metadata": {
    "colab": {
     "base_uri": "https://localhost:8080/"
    },
    "id": "LISPhERg8Arn",
    "outputId": "19515134-eba3-4ce0-8fe6-d4d4a53dce60"
   },
   "outputs": [
    {
     "name": "stdout",
     "output_type": "stream",
     "text": [
      "\n",
      "################################################## \n",
      "best estimator:  Pipeline(memory=None,\n",
      "         steps=[('std_scaler',\n",
      "                 StandardScaler(copy=True, with_mean=True, with_std=True)),\n",
      "                ('selector',\n",
      "                 SelectKBest(k=20,\n",
      "                             score_func=<function f_classif at 0x102bc0c20>)),\n",
      "                ('nn',\n",
      "                 MLPClassifier(activation='relu', alpha=0.005,\n",
      "                               batch_size='auto', beta_1=0.9, beta_2=0.999,\n",
      "                               early_stopping=False, epsilon=1e-08,\n",
      "                               hidden_layer_sizes=(10, 5),\n",
      "                               learning_rate='adaptive',\n",
      "                               learning_rate_init=0.001, max_fun=15000,\n",
      "                               max_iter=1000, momentum=0.9, n_iter_no_change=10,\n",
      "                               nesterovs_momentum=True, power_t=0.5,\n",
      "                               random_state=None, shuffle=True, solver='adam',\n",
      "                               tol=0.0001, validation_fraction=0.1,\n",
      "                               verbose=False, warm_start=False))],\n",
      "         verbose=False) \n",
      "################################################## \n",
      "best params:  {'selector__k': 20, 'nn__solver': 'adam', 'nn__learning_rate': 'adaptive', 'nn__hidden_layer_sizes': (10, 5), 'nn__alpha': 0.005, 'nn__activation': 'relu'} \n",
      "################################################## \n",
      "best score:  0.7997573190372185 \n",
      "\n"
     ]
    }
   ],
   "source": [
    "print(\"\\n\"+\"#\"*50,\"\\nbest estimator: \", clf_v.best_estimator_,\"\\n\"+\"#\"*50,\"\\nbest params: \", clf_v.best_params_, \"\\n\"+\"#\"*50,\"\\nbest score: \",clf_v.best_score_, \"\\n\")\n"
   ]
  },
  {
   "cell_type": "code",
   "execution_count": 48,
   "metadata": {
    "id": "eyFBGtiGCJQ8"
   },
   "outputs": [],
   "source": [
    "quadrants_predicted = clf_v.predict(X)\n"
   ]
  },
  {
   "cell_type": "code",
   "execution_count": 50,
   "metadata": {
    "colab": {
     "base_uri": "https://localhost:8080/"
    },
    "id": "zghlAEoJl1nQ",
    "outputId": "6e1a579f-0379-4226-f007-a0b29fbfe659"
   },
   "outputs": [
    {
     "name": "stdout",
     "output_type": "stream",
     "text": [
      "Percentage of Samples with Quadrant correctly predicted: 0.8273878020713463\n",
      "Score of Previous preduction (using only mean_V and mean_V) 0.7809742999616417\n"
     ]
    }
   ],
   "source": [
    "correct_quadrants_new = sum(quadrants_predicted == df['quadrant']) / len(df)\n",
    "print(\"Percentage of Samples with Quadrant correctly predicted:\", correct_quadrants_new)\n",
    "\n",
    "correct_quadrants_old = sum(df['predicted_quadrant'] == df['quadrant']) / len(df)\n",
    "print(\"Score of Previous preduction (using only mean_V and mean_V)\", correct_quadrants_old)"
   ]
  },
  {
   "cell_type": "code",
   "execution_count": null,
   "metadata": {},
   "outputs": [],
   "source": []
  }
 ],
 "metadata": {
  "colab": {
   "collapsed_sections": [],
   "name": "predict_MajorMinor_Label.ipynb",
   "provenance": [],
   "toc_visible": true
  },
  "kernelspec": {
   "display_name": "Python 3",
   "language": "python",
   "name": "python3"
  },
  "language_info": {
   "codemirror_mode": {
    "name": "ipython",
    "version": 3
   },
   "file_extension": ".py",
   "mimetype": "text/x-python",
   "name": "python",
   "nbconvert_exporter": "python",
   "pygments_lexer": "ipython3",
   "version": "3.7.4"
  }
 },
 "nbformat": 4,
 "nbformat_minor": 4
}
