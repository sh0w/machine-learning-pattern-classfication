{
 "cells": [
  {
   "cell_type": "markdown",
   "metadata": {},
   "source": [
    "# Imports"
   ]
  },
  {
   "cell_type": "code",
   "execution_count": 1,
   "metadata": {},
   "outputs": [],
   "source": [
    "import numpy as np\n",
    "import pandas as pd\n",
    "\n",
    "import matplotlib.pyplot as plt\n",
    "from scipy import stats\n",
    "\n",
    "from sklearn.model_selection import train_test_split\n",
    "from sklearn.model_selection import GridSearchCV\n",
    "from sklearn.neighbors import KNeighborsClassifier\n",
    "from sklearn.feature_selection import SelectKBest\n",
    "from sklearn.feature_selection import chi2\n",
    "from sklearn.preprocessing import MinMaxScaler"
   ]
  },
  {
   "cell_type": "code",
   "execution_count": 2,
   "metadata": {},
   "outputs": [],
   "source": [
    "df = pd.read_csv(\"dataset/phase_3_TRAIN_7d499bff69ca69b6_6372c3e_MLPC2021_generic.csv\")"
   ]
  },
  {
   "cell_type": "code",
   "execution_count": 3,
   "metadata": {},
   "outputs": [
    {
     "data": {
      "text/html": [
       "<div>\n",
       "<style scoped>\n",
       "    .dataframe tbody tr th:only-of-type {\n",
       "        vertical-align: middle;\n",
       "    }\n",
       "\n",
       "    .dataframe tbody tr th {\n",
       "        vertical-align: top;\n",
       "    }\n",
       "\n",
       "    .dataframe thead th {\n",
       "        text-align: right;\n",
       "    }\n",
       "</style>\n",
       "<table border=\"1\" class=\"dataframe\">\n",
       "  <thead>\n",
       "    <tr style=\"text-align: right;\">\n",
       "      <th></th>\n",
       "      <th>id</th>\n",
       "      <th>essentia_dissonance_mean</th>\n",
       "      <th>essentia_dissonance_stdev</th>\n",
       "      <th>essentia_dynamic_complexity</th>\n",
       "      <th>essentia_loudness</th>\n",
       "      <th>essentia_onset_rate</th>\n",
       "      <th>essentia_pitch_salience_mean</th>\n",
       "      <th>essentia_pitch_salience_stdev</th>\n",
       "      <th>essentia_spectral_centroid_mean</th>\n",
       "      <th>essentia_spectral_centroid_stdev</th>\n",
       "      <th>...</th>\n",
       "      <th>midlevel_features_rhythm_complexity</th>\n",
       "      <th>midlevel_features_rhythm_stability</th>\n",
       "      <th>midlevel_features_dissonance</th>\n",
       "      <th>midlevel_features_tonal_stability</th>\n",
       "      <th>midlevel_features_minorness</th>\n",
       "      <th>score_mode</th>\n",
       "      <th>score_key_strength</th>\n",
       "      <th>mean_A</th>\n",
       "      <th>mean_V</th>\n",
       "      <th>quadrant</th>\n",
       "    </tr>\n",
       "  </thead>\n",
       "  <tbody>\n",
       "    <tr>\n",
       "      <th>0</th>\n",
       "      <td>GG-01-000</td>\n",
       "      <td>0.206445</td>\n",
       "      <td>0.131383</td>\n",
       "      <td>13.998791</td>\n",
       "      <td>58.329521</td>\n",
       "      <td>3.1</td>\n",
       "      <td>0.539736</td>\n",
       "      <td>0.193987</td>\n",
       "      <td>3367.790527</td>\n",
       "      <td>3684.124268</td>\n",
       "      <td>...</td>\n",
       "      <td>-0.303987</td>\n",
       "      <td>-0.053306</td>\n",
       "      <td>-0.325228</td>\n",
       "      <td>0.347745</td>\n",
       "      <td>-0.119278</td>\n",
       "      <td>0.0</td>\n",
       "      <td>0.795727</td>\n",
       "      <td>50.689655</td>\n",
       "      <td>2.724138</td>\n",
       "      <td>1</td>\n",
       "    </tr>\n",
       "    <tr>\n",
       "      <th>1</th>\n",
       "      <td>GG-01-001</td>\n",
       "      <td>0.145753</td>\n",
       "      <td>0.057971</td>\n",
       "      <td>3.533264</td>\n",
       "      <td>75.166183</td>\n",
       "      <td>4.2</td>\n",
       "      <td>0.476832</td>\n",
       "      <td>0.123564</td>\n",
       "      <td>1395.528809</td>\n",
       "      <td>401.987610</td>\n",
       "      <td>...</td>\n",
       "      <td>-0.381182</td>\n",
       "      <td>0.120750</td>\n",
       "      <td>-0.479266</td>\n",
       "      <td>0.451572</td>\n",
       "      <td>-0.064252</td>\n",
       "      <td>0.0</td>\n",
       "      <td>0.844387</td>\n",
       "      <td>50.689655</td>\n",
       "      <td>2.724138</td>\n",
       "      <td>1</td>\n",
       "    </tr>\n",
       "    <tr>\n",
       "      <th>2</th>\n",
       "      <td>GG-01-002</td>\n",
       "      <td>0.149111</td>\n",
       "      <td>0.059011</td>\n",
       "      <td>3.337368</td>\n",
       "      <td>82.753929</td>\n",
       "      <td>4.3</td>\n",
       "      <td>0.457741</td>\n",
       "      <td>0.132359</td>\n",
       "      <td>1318.759644</td>\n",
       "      <td>289.306152</td>\n",
       "      <td>...</td>\n",
       "      <td>-0.337422</td>\n",
       "      <td>0.103853</td>\n",
       "      <td>-0.388214</td>\n",
       "      <td>0.430684</td>\n",
       "      <td>-0.226197</td>\n",
       "      <td>0.0</td>\n",
       "      <td>0.758119</td>\n",
       "      <td>50.689655</td>\n",
       "      <td>2.724138</td>\n",
       "      <td>1</td>\n",
       "    </tr>\n",
       "    <tr>\n",
       "      <th>3</th>\n",
       "      <td>GG-01-003</td>\n",
       "      <td>0.163914</td>\n",
       "      <td>0.057474</td>\n",
       "      <td>3.078172</td>\n",
       "      <td>79.024742</td>\n",
       "      <td>4.1</td>\n",
       "      <td>0.504427</td>\n",
       "      <td>0.121134</td>\n",
       "      <td>1258.258423</td>\n",
       "      <td>262.561310</td>\n",
       "      <td>...</td>\n",
       "      <td>-0.314282</td>\n",
       "      <td>0.118872</td>\n",
       "      <td>-0.335902</td>\n",
       "      <td>0.314371</td>\n",
       "      <td>-0.006619</td>\n",
       "      <td>1.0</td>\n",
       "      <td>0.747180</td>\n",
       "      <td>50.689655</td>\n",
       "      <td>2.724138</td>\n",
       "      <td>1</td>\n",
       "    </tr>\n",
       "    <tr>\n",
       "      <th>4</th>\n",
       "      <td>GG-01-004</td>\n",
       "      <td>0.157382</td>\n",
       "      <td>0.054116</td>\n",
       "      <td>2.682208</td>\n",
       "      <td>59.633064</td>\n",
       "      <td>3.9</td>\n",
       "      <td>0.503377</td>\n",
       "      <td>0.121658</td>\n",
       "      <td>1244.375122</td>\n",
       "      <td>260.756195</td>\n",
       "      <td>...</td>\n",
       "      <td>-0.302913</td>\n",
       "      <td>-0.002940</td>\n",
       "      <td>-0.395495</td>\n",
       "      <td>0.368037</td>\n",
       "      <td>-0.162711</td>\n",
       "      <td>0.0</td>\n",
       "      <td>0.710480</td>\n",
       "      <td>50.689655</td>\n",
       "      <td>2.724138</td>\n",
       "      <td>1</td>\n",
       "    </tr>\n",
       "  </tbody>\n",
       "</table>\n",
       "<p>5 rows × 93 columns</p>\n",
       "</div>"
      ],
      "text/plain": [
       "          id  essentia_dissonance_mean  essentia_dissonance_stdev  \\\n",
       "0  GG-01-000                  0.206445                   0.131383   \n",
       "1  GG-01-001                  0.145753                   0.057971   \n",
       "2  GG-01-002                  0.149111                   0.059011   \n",
       "3  GG-01-003                  0.163914                   0.057474   \n",
       "4  GG-01-004                  0.157382                   0.054116   \n",
       "\n",
       "   essentia_dynamic_complexity  essentia_loudness  essentia_onset_rate  \\\n",
       "0                    13.998791          58.329521                  3.1   \n",
       "1                     3.533264          75.166183                  4.2   \n",
       "2                     3.337368          82.753929                  4.3   \n",
       "3                     3.078172          79.024742                  4.1   \n",
       "4                     2.682208          59.633064                  3.9   \n",
       "\n",
       "   essentia_pitch_salience_mean  essentia_pitch_salience_stdev  \\\n",
       "0                      0.539736                       0.193987   \n",
       "1                      0.476832                       0.123564   \n",
       "2                      0.457741                       0.132359   \n",
       "3                      0.504427                       0.121134   \n",
       "4                      0.503377                       0.121658   \n",
       "\n",
       "   essentia_spectral_centroid_mean  essentia_spectral_centroid_stdev  ...  \\\n",
       "0                      3367.790527                       3684.124268  ...   \n",
       "1                      1395.528809                        401.987610  ...   \n",
       "2                      1318.759644                        289.306152  ...   \n",
       "3                      1258.258423                        262.561310  ...   \n",
       "4                      1244.375122                        260.756195  ...   \n",
       "\n",
       "   midlevel_features_rhythm_complexity  midlevel_features_rhythm_stability  \\\n",
       "0                            -0.303987                           -0.053306   \n",
       "1                            -0.381182                            0.120750   \n",
       "2                            -0.337422                            0.103853   \n",
       "3                            -0.314282                            0.118872   \n",
       "4                            -0.302913                           -0.002940   \n",
       "\n",
       "   midlevel_features_dissonance  midlevel_features_tonal_stability  \\\n",
       "0                     -0.325228                           0.347745   \n",
       "1                     -0.479266                           0.451572   \n",
       "2                     -0.388214                           0.430684   \n",
       "3                     -0.335902                           0.314371   \n",
       "4                     -0.395495                           0.368037   \n",
       "\n",
       "   midlevel_features_minorness  score_mode  score_key_strength     mean_A  \\\n",
       "0                    -0.119278         0.0            0.795727  50.689655   \n",
       "1                    -0.064252         0.0            0.844387  50.689655   \n",
       "2                    -0.226197         0.0            0.758119  50.689655   \n",
       "3                    -0.006619         1.0            0.747180  50.689655   \n",
       "4                    -0.162711         0.0            0.710480  50.689655   \n",
       "\n",
       "     mean_V  quadrant  \n",
       "0  2.724138         1  \n",
       "1  2.724138         1  \n",
       "2  2.724138         1  \n",
       "3  2.724138         1  \n",
       "4  2.724138         1  \n",
       "\n",
       "[5 rows x 93 columns]"
      ]
     },
     "execution_count": 3,
     "metadata": {},
     "output_type": "execute_result"
    }
   ],
   "source": [
    "df.head()"
   ]
  },
  {
   "cell_type": "markdown",
   "metadata": {},
   "source": [
    "# Split dataset into inputs and targets"
   ]
  },
  {
   "cell_type": "code",
   "execution_count": 29,
   "metadata": {},
   "outputs": [],
   "source": [
    "# drop target value, student annotations and string ID from input features:\n",
    "X = df.drop(columns=['quadrant','mean_A','mean_V','id','score_mode','score_key_strength'])\n",
    "\n",
    "# we want to predict the quadrant:\n",
    "y = df['quadrant'].values"
   ]
  },
  {
   "cell_type": "code",
   "execution_count": 30,
   "metadata": {},
   "outputs": [
    {
     "data": {
      "text/html": [
       "<div>\n",
       "<style scoped>\n",
       "    .dataframe tbody tr th:only-of-type {\n",
       "        vertical-align: middle;\n",
       "    }\n",
       "\n",
       "    .dataframe tbody tr th {\n",
       "        vertical-align: top;\n",
       "    }\n",
       "\n",
       "    .dataframe thead th {\n",
       "        text-align: right;\n",
       "    }\n",
       "</style>\n",
       "<table border=\"1\" class=\"dataframe\">\n",
       "  <thead>\n",
       "    <tr style=\"text-align: right;\">\n",
       "      <th></th>\n",
       "      <th>essentia_dissonance_mean</th>\n",
       "      <th>essentia_dissonance_stdev</th>\n",
       "      <th>essentia_dynamic_complexity</th>\n",
       "      <th>essentia_loudness</th>\n",
       "      <th>essentia_onset_rate</th>\n",
       "      <th>essentia_pitch_salience_mean</th>\n",
       "      <th>essentia_pitch_salience_stdev</th>\n",
       "      <th>essentia_spectral_centroid_mean</th>\n",
       "      <th>essentia_spectral_centroid_stdev</th>\n",
       "      <th>essentia_spectral_complexity_mean</th>\n",
       "      <th>...</th>\n",
       "      <th>librosa_spectral_bandwidth_stdev</th>\n",
       "      <th>librosa_spectral_flatness_mean</th>\n",
       "      <th>librosa_spectral_flatness_stdev</th>\n",
       "      <th>midlevel_features_melody</th>\n",
       "      <th>midlevel_features_articulation</th>\n",
       "      <th>midlevel_features_rhythm_complexity</th>\n",
       "      <th>midlevel_features_rhythm_stability</th>\n",
       "      <th>midlevel_features_dissonance</th>\n",
       "      <th>midlevel_features_tonal_stability</th>\n",
       "      <th>midlevel_features_minorness</th>\n",
       "    </tr>\n",
       "  </thead>\n",
       "  <tbody>\n",
       "    <tr>\n",
       "      <th>0</th>\n",
       "      <td>0.206445</td>\n",
       "      <td>0.131383</td>\n",
       "      <td>13.998791</td>\n",
       "      <td>58.329521</td>\n",
       "      <td>3.1</td>\n",
       "      <td>0.539736</td>\n",
       "      <td>0.193987</td>\n",
       "      <td>3367.790527</td>\n",
       "      <td>3684.124268</td>\n",
       "      <td>2.986095</td>\n",
       "      <td>...</td>\n",
       "      <td>1781.705789</td>\n",
       "      <td>0.139911</td>\n",
       "      <td>0.248388</td>\n",
       "      <td>0.065397</td>\n",
       "      <td>-0.029380</td>\n",
       "      <td>-0.303987</td>\n",
       "      <td>-0.053306</td>\n",
       "      <td>-0.325228</td>\n",
       "      <td>0.347745</td>\n",
       "      <td>-0.119278</td>\n",
       "    </tr>\n",
       "    <tr>\n",
       "      <th>1</th>\n",
       "      <td>0.145753</td>\n",
       "      <td>0.057971</td>\n",
       "      <td>3.533264</td>\n",
       "      <td>75.166183</td>\n",
       "      <td>4.2</td>\n",
       "      <td>0.476832</td>\n",
       "      <td>0.123564</td>\n",
       "      <td>1395.528809</td>\n",
       "      <td>401.987610</td>\n",
       "      <td>4.181923</td>\n",
       "      <td>...</td>\n",
       "      <td>721.292781</td>\n",
       "      <td>0.000275</td>\n",
       "      <td>0.000484</td>\n",
       "      <td>0.353040</td>\n",
       "      <td>-0.073957</td>\n",
       "      <td>-0.381182</td>\n",
       "      <td>0.120750</td>\n",
       "      <td>-0.479266</td>\n",
       "      <td>0.451572</td>\n",
       "      <td>-0.064252</td>\n",
       "    </tr>\n",
       "    <tr>\n",
       "      <th>2</th>\n",
       "      <td>0.149111</td>\n",
       "      <td>0.059011</td>\n",
       "      <td>3.337368</td>\n",
       "      <td>82.753929</td>\n",
       "      <td>4.3</td>\n",
       "      <td>0.457741</td>\n",
       "      <td>0.132359</td>\n",
       "      <td>1318.759644</td>\n",
       "      <td>289.306152</td>\n",
       "      <td>4.303592</td>\n",
       "      <td>...</td>\n",
       "      <td>583.569947</td>\n",
       "      <td>0.000202</td>\n",
       "      <td>0.000314</td>\n",
       "      <td>0.201885</td>\n",
       "      <td>0.016944</td>\n",
       "      <td>-0.337422</td>\n",
       "      <td>0.103853</td>\n",
       "      <td>-0.388214</td>\n",
       "      <td>0.430684</td>\n",
       "      <td>-0.226197</td>\n",
       "    </tr>\n",
       "    <tr>\n",
       "      <th>3</th>\n",
       "      <td>0.163914</td>\n",
       "      <td>0.057474</td>\n",
       "      <td>3.078172</td>\n",
       "      <td>79.024742</td>\n",
       "      <td>4.1</td>\n",
       "      <td>0.504427</td>\n",
       "      <td>0.121134</td>\n",
       "      <td>1258.258423</td>\n",
       "      <td>262.561310</td>\n",
       "      <td>5.271147</td>\n",
       "      <td>...</td>\n",
       "      <td>575.961419</td>\n",
       "      <td>0.000202</td>\n",
       "      <td>0.000257</td>\n",
       "      <td>0.181998</td>\n",
       "      <td>-0.019165</td>\n",
       "      <td>-0.314282</td>\n",
       "      <td>0.118872</td>\n",
       "      <td>-0.335902</td>\n",
       "      <td>0.314371</td>\n",
       "      <td>-0.006619</td>\n",
       "    </tr>\n",
       "    <tr>\n",
       "      <th>4</th>\n",
       "      <td>0.157382</td>\n",
       "      <td>0.054116</td>\n",
       "      <td>2.682208</td>\n",
       "      <td>59.633064</td>\n",
       "      <td>3.9</td>\n",
       "      <td>0.503377</td>\n",
       "      <td>0.121658</td>\n",
       "      <td>1244.375122</td>\n",
       "      <td>260.756195</td>\n",
       "      <td>4.122828</td>\n",
       "      <td>...</td>\n",
       "      <td>539.887336</td>\n",
       "      <td>0.000217</td>\n",
       "      <td>0.000241</td>\n",
       "      <td>0.256362</td>\n",
       "      <td>-0.151648</td>\n",
       "      <td>-0.302913</td>\n",
       "      <td>-0.002940</td>\n",
       "      <td>-0.395495</td>\n",
       "      <td>0.368037</td>\n",
       "      <td>-0.162711</td>\n",
       "    </tr>\n",
       "  </tbody>\n",
       "</table>\n",
       "<p>5 rows × 87 columns</p>\n",
       "</div>"
      ],
      "text/plain": [
       "   essentia_dissonance_mean  essentia_dissonance_stdev  \\\n",
       "0                  0.206445                   0.131383   \n",
       "1                  0.145753                   0.057971   \n",
       "2                  0.149111                   0.059011   \n",
       "3                  0.163914                   0.057474   \n",
       "4                  0.157382                   0.054116   \n",
       "\n",
       "   essentia_dynamic_complexity  essentia_loudness  essentia_onset_rate  \\\n",
       "0                    13.998791          58.329521                  3.1   \n",
       "1                     3.533264          75.166183                  4.2   \n",
       "2                     3.337368          82.753929                  4.3   \n",
       "3                     3.078172          79.024742                  4.1   \n",
       "4                     2.682208          59.633064                  3.9   \n",
       "\n",
       "   essentia_pitch_salience_mean  essentia_pitch_salience_stdev  \\\n",
       "0                      0.539736                       0.193987   \n",
       "1                      0.476832                       0.123564   \n",
       "2                      0.457741                       0.132359   \n",
       "3                      0.504427                       0.121134   \n",
       "4                      0.503377                       0.121658   \n",
       "\n",
       "   essentia_spectral_centroid_mean  essentia_spectral_centroid_stdev  \\\n",
       "0                      3367.790527                       3684.124268   \n",
       "1                      1395.528809                        401.987610   \n",
       "2                      1318.759644                        289.306152   \n",
       "3                      1258.258423                        262.561310   \n",
       "4                      1244.375122                        260.756195   \n",
       "\n",
       "   essentia_spectral_complexity_mean  ...  librosa_spectral_bandwidth_stdev  \\\n",
       "0                           2.986095  ...                       1781.705789   \n",
       "1                           4.181923  ...                        721.292781   \n",
       "2                           4.303592  ...                        583.569947   \n",
       "3                           5.271147  ...                        575.961419   \n",
       "4                           4.122828  ...                        539.887336   \n",
       "\n",
       "   librosa_spectral_flatness_mean  librosa_spectral_flatness_stdev  \\\n",
       "0                        0.139911                         0.248388   \n",
       "1                        0.000275                         0.000484   \n",
       "2                        0.000202                         0.000314   \n",
       "3                        0.000202                         0.000257   \n",
       "4                        0.000217                         0.000241   \n",
       "\n",
       "   midlevel_features_melody  midlevel_features_articulation  \\\n",
       "0                  0.065397                       -0.029380   \n",
       "1                  0.353040                       -0.073957   \n",
       "2                  0.201885                        0.016944   \n",
       "3                  0.181998                       -0.019165   \n",
       "4                  0.256362                       -0.151648   \n",
       "\n",
       "   midlevel_features_rhythm_complexity  midlevel_features_rhythm_stability  \\\n",
       "0                            -0.303987                           -0.053306   \n",
       "1                            -0.381182                            0.120750   \n",
       "2                            -0.337422                            0.103853   \n",
       "3                            -0.314282                            0.118872   \n",
       "4                            -0.302913                           -0.002940   \n",
       "\n",
       "   midlevel_features_dissonance  midlevel_features_tonal_stability  \\\n",
       "0                     -0.325228                           0.347745   \n",
       "1                     -0.479266                           0.451572   \n",
       "2                     -0.388214                           0.430684   \n",
       "3                     -0.335902                           0.314371   \n",
       "4                     -0.395495                           0.368037   \n",
       "\n",
       "   midlevel_features_minorness  \n",
       "0                    -0.119278  \n",
       "1                    -0.064252  \n",
       "2                    -0.226197  \n",
       "3                    -0.006619  \n",
       "4                    -0.162711  \n",
       "\n",
       "[5 rows x 87 columns]"
      ]
     },
     "execution_count": 30,
     "metadata": {},
     "output_type": "execute_result"
    }
   ],
   "source": [
    "X.head()"
   ]
  },
  {
   "cell_type": "code",
   "execution_count": 88,
   "metadata": {},
   "outputs": [],
   "source": [
    "#split dataset into train and test data\n",
    "X_train, X_test, y_train, y_test = train_test_split(X, y, test_size=0.2, random_state=42, stratify=y)"
   ]
  },
  {
   "cell_type": "markdown",
   "metadata": {},
   "source": [
    "# Super Simple kNN (no normalization)"
   ]
  },
  {
   "cell_type": "code",
   "execution_count": 89,
   "metadata": {},
   "outputs": [
    {
     "data": {
      "text/plain": [
       "0.6168582375478927"
      ]
     },
     "execution_count": 89,
     "metadata": {},
     "output_type": "execute_result"
    }
   ],
   "source": [
    "# Create KNN classifier\n",
    "knn = KNeighborsClassifier(n_neighbors = 5)\n",
    "\n",
    "# Fit the classifier to the data\n",
    "knn.fit(X_train,y_train)\n",
    "\n",
    "knn.score(X_test, y_test)"
   ]
  },
  {
   "cell_type": "markdown",
   "metadata": {},
   "source": [
    "# Normalize data and perform kNN"
   ]
  },
  {
   "cell_type": "code",
   "execution_count": 83,
   "metadata": {},
   "outputs": [],
   "source": [
    "X_normalized = MinMaxScaler().fit_transform(X)\n",
    "\n",
    "\n",
    "X_train, X_test, y_train, y_test = train_test_split(X_normalized, y, test_size=0.2, random_state=42, stratify=y)"
   ]
  },
  {
   "cell_type": "code",
   "execution_count": 84,
   "metadata": {},
   "outputs": [
    {
     "data": {
      "text/plain": [
       "0.764367816091954"
      ]
     },
     "execution_count": 84,
     "metadata": {},
     "output_type": "execute_result"
    }
   ],
   "source": [
    "\n",
    "knn = KNeighborsClassifier(n_neighbors = 5)\n",
    "\n",
    "# Fit the classifier to the normalized data\n",
    "knn.fit(X_train,y_train)\n",
    "\n",
    "knn.score(X_test, y_test)"
   ]
  },
  {
   "cell_type": "markdown",
   "metadata": {},
   "source": [
    "=> By normalizing our feature space we already achieved an improvement of more than 10%!"
   ]
  },
  {
   "cell_type": "markdown",
   "metadata": {},
   "source": [
    "# Select the best features"
   ]
  },
  {
   "cell_type": "code",
   "execution_count": 35,
   "metadata": {},
   "outputs": [
    {
     "name": "stdout",
     "output_type": "stream",
     "text": [
      "number of features before feature selection: 87\n",
      "number of features after feature selection: 10\n"
     ]
    }
   ],
   "source": [
    "print(\"number of features before feature selection:\", X.shape[1])\n",
    "\n",
    "X_best_5 = SelectKBest(chi2, k=5).fit_transform(X_normalized, y)\n",
    "X_best_10 = SelectKBest(chi2, k=10).fit_transform(X_normalized, y)\n",
    "X_best_20 = SelectKBest(chi2, k=20).fit_transform(X_normalized, y)\n",
    "\n",
    "print(\"number of features after feature selection:\", X_best_10.shape[1])"
   ]
  },
  {
   "cell_type": "code",
   "execution_count": 36,
   "metadata": {},
   "outputs": [
    {
     "data": {
      "image/png": "[encoded data removed]",
      "text/plain": [
       "<Figure size 1440x360 with 1 Axes>"
      ]
     },
     "metadata": {
      "needs_background": "light"
     },
     "output_type": "display_data"
    }
   ],
   "source": [
    "feature_importances = chi2(X_normalized, y)[0]\n",
    "\n",
    "plt.figure(figsize=(20,5))\n",
    "plt.bar(x=X.columns, height=feature_importances)\n",
    "plt.xticks(rotation=90)\n",
    "plt.show()"
   ]
  },
  {
   "cell_type": "code",
   "execution_count": 95,
   "metadata": {},
   "outputs": [
    {
     "data": {
      "text/plain": [
       "[('essentia_onset_rate', 84.9072881396441),\n",
       " ('midlevel_features_articulation', 69.41478725672926),\n",
       " ('essentia_spectral_complexity_mean', 48.1412276057966),\n",
       " ('essentia_loudness', 43.225117773465165),\n",
       " ('librosa_bpm', 41.979035679989565)]"
      ]
     },
     "execution_count": 95,
     "metadata": {},
     "output_type": "execute_result"
    }
   ],
   "source": [
    "sorted_feature_list = [(x, _) for _, x in sorted(zip(feature_importances, X.columns), reverse=True)]\n",
    "best_5_features = sorted_feature_list[:5]\n",
    "best_5_features"
   ]
  },
  {
   "cell_type": "markdown",
   "metadata": {},
   "source": [
    "# Perform kNN with Cross-Validation on different feature subsets"
   ]
  },
  {
   "cell_type": "code",
   "execution_count": 76,
   "metadata": {},
   "outputs": [],
   "source": [
    "# create new a knn model\n",
    "knn2 = KNeighborsClassifier()\n",
    "\n",
    "max_k = 200\n",
    "k_step = 3\n",
    "k_range = list(range(1, 21, 1)) + list(range(22, 42, 2)) + list(range(43, 100, 3)) + list(range(100, 200, 5)) + list(range(200, 500, 10))\n",
    "\n",
    "# create a dictionary of all values we want to test for n_neighbors\n",
    "param_grid = {'n_neighbors': np.array(k_range)}\n",
    "\n",
    "# use gridsearch to test all values for n_neighbors\n",
    "knn_gscv = GridSearchCV(knn2, param_grid, cv=5)\n",
    "knn_gscv_normalized = GridSearchCV(knn2, param_grid, cv=5)\n",
    "knn_gscv_best_5 = GridSearchCV(knn2, param_grid, cv=5)\n",
    "knn_gscv_best_10 = GridSearchCV(knn2, param_grid, cv=5)\n",
    "knn_gscv_best_20 = GridSearchCV(knn2, param_grid, cv=5)\n",
    " \n",
    "# fit model to data\n",
    "knn_gscv.fit(X, y)\n",
    "knn_gscv_normalized.fit(X_normalized, y)\n",
    "knn_gscv_best_10.fit(X_best_10, y)\n",
    "knn_gscv_best_5.fit(X_best_5, y)\n",
    "knn_gscv_best_20.fit(X_best_20, y)\n",
    "\n",
    "# get test score (mean of 5-fold CV)\n",
    "scores_all_features = knn_gscv.cv_results_[\"mean_test_score\"]\n",
    "scores_all_features_normalized = knn_gscv_normalized.cv_results_[\"mean_test_score\"]\n",
    "scores_10_best_features = knn_gscv_best_10.cv_results_[\"mean_test_score\"]\n",
    "scores_5_best_features = knn_gscv_best_5.cv_results_[\"mean_test_score\"]\n",
    "scores_20_best_features = knn_gscv_best_20.cv_results_[\"mean_test_score\"]"
   ]
  },
  {
   "cell_type": "markdown",
   "metadata": {},
   "source": [
    "# Evaluation"
   ]
  },
  {
   "cell_type": "code",
   "execution_count": 72,
   "metadata": {},
   "outputs": [
    {
     "data": {
      "image/png": "[encoded data removed]",
      "text/plain": [
       "<Figure size 648x504 with 1 Axes>"
      ]
     },
     "metadata": {
      "needs_background": "light"
     },
     "output_type": "display_data"
    }
   ],
   "source": [
    "plt.figure(figsize=(9,7))\n",
    "plt.ylim(0.43,0.77)\n",
    "plt.plot(k_range, scores_all_features, label=\"all 87 music features, not normalized\", color=\"red\")\n",
    "plt.plot(k_range, scores_all_features_normalized, label=\"all 87 features, normalized to [0,1]\", color=\"orange\")\n",
    "plt.plot(k_range, scores_5_best_features, label=\"5 best features, normalized to [0,1]\", color=\"yellowgreen\")\n",
    "plt.plot(k_range, scores_10_best_features, label=\"10 best features, normalized to [0,1]\", color=\"olivedrab\")\n",
    "plt.plot(k_range, scores_20_best_features, label=\"20 best features, normalized to [0,1]\", color=\"darkgreen\")\n",
    "\n",
    "plt.title(\"Evaluation of kNN (with/without normalization & feature selection)\", fontsize=16)\n",
    "plt.ylabel(\"Mean Test Score (5-fold CV)\", fontsize=14)\n",
    "plt.xlabel(\"Number of Neighbors (k)\", fontsize=14)\n",
    "plt.legend()\n",
    "plt.show()"
   ]
  },
  {
   "cell_type": "code",
   "execution_count": 73,
   "metadata": {},
   "outputs": [
    {
     "name": "stdout",
     "output_type": "stream",
     "text": [
      "### all 87 features, no normalization ###\n",
      "best k:  {'n_neighbors': 150}  best score:  0.5489 \n",
      "\n",
      "### all 87 features, normalized to [0, 1] ###\n",
      "best k: {'n_neighbors': 12}  best score:  0.6747 \n",
      "\n",
      "### best 5 features, normalized to [0, 1] ###\n",
      "best k: {'n_neighbors': 100}  best score:  0.6586 \n",
      "\n",
      "### best 10 features, normalized to [0, 1] ###\n",
      "best k: {'n_neighbors': 40}  best score:  0.6693 \n",
      "\n",
      "### best 20 features, normalized to [0, 1] ###\n",
      "best k: {'n_neighbors': 46}  best score:  0.6536 \n",
      "\n"
     ]
    }
   ],
   "source": [
    "print(\"### all 87 features, no normalization ###\")\n",
    "print(\"best k: \", knn_gscv.best_params_, \" best score: \", np.round(knn_gscv.best_score_,4), \"\\n\")\n",
    "\n",
    "print(\"### all 87 features, normalized to [0, 1] ###\")\n",
    "print(\"best k:\", knn_gscv_normalized.best_params_, \" best score: \", np.round(knn_gscv_normalized.best_score_,4),  \"\\n\")\n",
    "\n",
    "print(\"### best 5 features, normalized to [0, 1] ###\")\n",
    "print(\"best k:\", knn_gscv_best_5.best_params_, \" best score: \", np.round(knn_gscv_best_5.best_score_,4), \"\\n\")\n",
    "\n",
    "print(\"### best 10 features, normalized to [0, 1] ###\")\n",
    "print(\"best k:\", knn_gscv_best_10.best_params_, \" best score: \", np.round(knn_gscv_best_10.best_score_,4), \"\\n\")\n",
    "\n",
    "print(\"### best 20 features, normalized to [0, 1] ###\")\n",
    "print(\"best k:\", knn_gscv_best_20.best_params_, \" best score: \", np.round(knn_gscv_best_20.best_score_,4), \"\\n\")"
   ]
  }
 ],
 "metadata": {
  "kernelspec": {
   "display_name": "Python 3",
   "language": "python",
   "name": "python3"
  },
  "language_info": {
   "codemirror_mode": {
    "name": "ipython",
    "version": 3
   },
   "file_extension": ".py",
   "mimetype": "text/x-python",
   "name": "python",
   "nbconvert_exporter": "python",
   "pygments_lexer": "ipython3",
   "version": "3.7.4"
  }
 },
 "nbformat": 4,
 "nbformat_minor": 4
}
