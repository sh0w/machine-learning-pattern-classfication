{
 "cells": [
  {
   "cell_type": "markdown",
   "metadata": {},
   "source": [
    "# Imports"
   ]
  },
  {
   "cell_type": "code",
   "execution_count": 1,
   "metadata": {},
   "outputs": [],
   "source": [
    "import numpy as np\n",
    "import pandas as pd\n",
    "\n",
    "import matplotlib.pyplot as plt\n",
    "from scipy import stats\n",
    "\n",
    "from sklearn.model_selection import train_test_split\n",
    "from sklearn.model_selection import GridSearchCV\n",
    "from sklearn.svm import SVC\n",
    "from sklearn.preprocessing import MinMaxScaler"
   ]
  },
  {
   "cell_type": "code",
   "execution_count": 2,
   "metadata": {},
   "outputs": [],
   "source": [
    "df = pd.read_csv(\"dataset/phase_3_TRAIN_7d499bff69ca69b6_6372c3e_MLPC2021_generic.csv\")\n",
    "# df.head()"
   ]
  },
  {
   "cell_type": "markdown",
   "metadata": {},
   "source": [
    "# Split dataset into inputs and targets"
   ]
  },
  {
   "cell_type": "code",
   "execution_count": 3,
   "metadata": {},
   "outputs": [],
   "source": [
    "# drop target value, student annotations and string ID from input features:\n",
    "X = df.drop(columns=['quadrant','mean_A','mean_V','id','score_mode','score_key_strength'])\n",
    "\n",
    "# we want to predict the quadrant:\n",
    "y = df['quadrant'].values"
   ]
  },
  {
   "cell_type": "code",
   "execution_count": 4,
   "metadata": {},
   "outputs": [
    {
     "data": {
      "text/html": [
       "<div>\n",
       "<style scoped>\n",
       "    .dataframe tbody tr th:only-of-type {\n",
       "        vertical-align: middle;\n",
       "    }\n",
       "\n",
       "    .dataframe tbody tr th {\n",
       "        vertical-align: top;\n",
       "    }\n",
       "\n",
       "    .dataframe thead th {\n",
       "        text-align: right;\n",
       "    }\n",
       "</style>\n",
       "<table border=\"1\" class=\"dataframe\">\n",
       "  <thead>\n",
       "    <tr style=\"text-align: right;\">\n",
       "      <th></th>\n",
       "      <th>essentia_dissonance_mean</th>\n",
       "      <th>essentia_dissonance_stdev</th>\n",
       "      <th>essentia_dynamic_complexity</th>\n",
       "      <th>essentia_loudness</th>\n",
       "      <th>essentia_onset_rate</th>\n",
       "      <th>essentia_pitch_salience_mean</th>\n",
       "      <th>essentia_pitch_salience_stdev</th>\n",
       "      <th>essentia_spectral_centroid_mean</th>\n",
       "      <th>essentia_spectral_centroid_stdev</th>\n",
       "      <th>essentia_spectral_complexity_mean</th>\n",
       "      <th>...</th>\n",
       "      <th>librosa_spectral_bandwidth_stdev</th>\n",
       "      <th>librosa_spectral_flatness_mean</th>\n",
       "      <th>librosa_spectral_flatness_stdev</th>\n",
       "      <th>midlevel_features_melody</th>\n",
       "      <th>midlevel_features_articulation</th>\n",
       "      <th>midlevel_features_rhythm_complexity</th>\n",
       "      <th>midlevel_features_rhythm_stability</th>\n",
       "      <th>midlevel_features_dissonance</th>\n",
       "      <th>midlevel_features_tonal_stability</th>\n",
       "      <th>midlevel_features_minorness</th>\n",
       "    </tr>\n",
       "  </thead>\n",
       "  <tbody>\n",
       "    <tr>\n",
       "      <th>0</th>\n",
       "      <td>0.206445</td>\n",
       "      <td>0.131383</td>\n",
       "      <td>13.998791</td>\n",
       "      <td>58.329521</td>\n",
       "      <td>3.1</td>\n",
       "      <td>0.539736</td>\n",
       "      <td>0.193987</td>\n",
       "      <td>3367.790527</td>\n",
       "      <td>3684.124268</td>\n",
       "      <td>2.986095</td>\n",
       "      <td>...</td>\n",
       "      <td>1781.705789</td>\n",
       "      <td>0.139911</td>\n",
       "      <td>0.248388</td>\n",
       "      <td>0.065397</td>\n",
       "      <td>-0.029380</td>\n",
       "      <td>-0.303987</td>\n",
       "      <td>-0.053306</td>\n",
       "      <td>-0.325228</td>\n",
       "      <td>0.347745</td>\n",
       "      <td>-0.119278</td>\n",
       "    </tr>\n",
       "    <tr>\n",
       "      <th>1</th>\n",
       "      <td>0.145753</td>\n",
       "      <td>0.057971</td>\n",
       "      <td>3.533264</td>\n",
       "      <td>75.166183</td>\n",
       "      <td>4.2</td>\n",
       "      <td>0.476832</td>\n",
       "      <td>0.123564</td>\n",
       "      <td>1395.528809</td>\n",
       "      <td>401.987610</td>\n",
       "      <td>4.181923</td>\n",
       "      <td>...</td>\n",
       "      <td>721.292781</td>\n",
       "      <td>0.000275</td>\n",
       "      <td>0.000484</td>\n",
       "      <td>0.353040</td>\n",
       "      <td>-0.073957</td>\n",
       "      <td>-0.381182</td>\n",
       "      <td>0.120750</td>\n",
       "      <td>-0.479266</td>\n",
       "      <td>0.451572</td>\n",
       "      <td>-0.064252</td>\n",
       "    </tr>\n",
       "    <tr>\n",
       "      <th>2</th>\n",
       "      <td>0.149111</td>\n",
       "      <td>0.059011</td>\n",
       "      <td>3.337368</td>\n",
       "      <td>82.753929</td>\n",
       "      <td>4.3</td>\n",
       "      <td>0.457741</td>\n",
       "      <td>0.132359</td>\n",
       "      <td>1318.759644</td>\n",
       "      <td>289.306152</td>\n",
       "      <td>4.303592</td>\n",
       "      <td>...</td>\n",
       "      <td>583.569947</td>\n",
       "      <td>0.000202</td>\n",
       "      <td>0.000314</td>\n",
       "      <td>0.201885</td>\n",
       "      <td>0.016944</td>\n",
       "      <td>-0.337422</td>\n",
       "      <td>0.103853</td>\n",
       "      <td>-0.388214</td>\n",
       "      <td>0.430684</td>\n",
       "      <td>-0.226197</td>\n",
       "    </tr>\n",
       "    <tr>\n",
       "      <th>3</th>\n",
       "      <td>0.163914</td>\n",
       "      <td>0.057474</td>\n",
       "      <td>3.078172</td>\n",
       "      <td>79.024742</td>\n",
       "      <td>4.1</td>\n",
       "      <td>0.504427</td>\n",
       "      <td>0.121134</td>\n",
       "      <td>1258.258423</td>\n",
       "      <td>262.561310</td>\n",
       "      <td>5.271147</td>\n",
       "      <td>...</td>\n",
       "      <td>575.961419</td>\n",
       "      <td>0.000202</td>\n",
       "      <td>0.000257</td>\n",
       "      <td>0.181998</td>\n",
       "      <td>-0.019165</td>\n",
       "      <td>-0.314282</td>\n",
       "      <td>0.118872</td>\n",
       "      <td>-0.335902</td>\n",
       "      <td>0.314371</td>\n",
       "      <td>-0.006619</td>\n",
       "    </tr>\n",
       "    <tr>\n",
       "      <th>4</th>\n",
       "      <td>0.157382</td>\n",
       "      <td>0.054116</td>\n",
       "      <td>2.682208</td>\n",
       "      <td>59.633064</td>\n",
       "      <td>3.9</td>\n",
       "      <td>0.503377</td>\n",
       "      <td>0.121658</td>\n",
       "      <td>1244.375122</td>\n",
       "      <td>260.756195</td>\n",
       "      <td>4.122828</td>\n",
       "      <td>...</td>\n",
       "      <td>539.887336</td>\n",
       "      <td>0.000217</td>\n",
       "      <td>0.000241</td>\n",
       "      <td>0.256362</td>\n",
       "      <td>-0.151648</td>\n",
       "      <td>-0.302913</td>\n",
       "      <td>-0.002940</td>\n",
       "      <td>-0.395495</td>\n",
       "      <td>0.368037</td>\n",
       "      <td>-0.162711</td>\n",
       "    </tr>\n",
       "  </tbody>\n",
       "</table>\n",
       "<p>5 rows × 87 columns</p>\n",
       "</div>"
      ],
      "text/plain": [
       "   essentia_dissonance_mean  essentia_dissonance_stdev  \\\n",
       "0                  0.206445                   0.131383   \n",
       "1                  0.145753                   0.057971   \n",
       "2                  0.149111                   0.059011   \n",
       "3                  0.163914                   0.057474   \n",
       "4                  0.157382                   0.054116   \n",
       "\n",
       "   essentia_dynamic_complexity  essentia_loudness  essentia_onset_rate  \\\n",
       "0                    13.998791          58.329521                  3.1   \n",
       "1                     3.533264          75.166183                  4.2   \n",
       "2                     3.337368          82.753929                  4.3   \n",
       "3                     3.078172          79.024742                  4.1   \n",
       "4                     2.682208          59.633064                  3.9   \n",
       "\n",
       "   essentia_pitch_salience_mean  essentia_pitch_salience_stdev  \\\n",
       "0                      0.539736                       0.193987   \n",
       "1                      0.476832                       0.123564   \n",
       "2                      0.457741                       0.132359   \n",
       "3                      0.504427                       0.121134   \n",
       "4                      0.503377                       0.121658   \n",
       "\n",
       "   essentia_spectral_centroid_mean  essentia_spectral_centroid_stdev  \\\n",
       "0                      3367.790527                       3684.124268   \n",
       "1                      1395.528809                        401.987610   \n",
       "2                      1318.759644                        289.306152   \n",
       "3                      1258.258423                        262.561310   \n",
       "4                      1244.375122                        260.756195   \n",
       "\n",
       "   essentia_spectral_complexity_mean  ...  librosa_spectral_bandwidth_stdev  \\\n",
       "0                           2.986095  ...                       1781.705789   \n",
       "1                           4.181923  ...                        721.292781   \n",
       "2                           4.303592  ...                        583.569947   \n",
       "3                           5.271147  ...                        575.961419   \n",
       "4                           4.122828  ...                        539.887336   \n",
       "\n",
       "   librosa_spectral_flatness_mean  librosa_spectral_flatness_stdev  \\\n",
       "0                        0.139911                         0.248388   \n",
       "1                        0.000275                         0.000484   \n",
       "2                        0.000202                         0.000314   \n",
       "3                        0.000202                         0.000257   \n",
       "4                        0.000217                         0.000241   \n",
       "\n",
       "   midlevel_features_melody  midlevel_features_articulation  \\\n",
       "0                  0.065397                       -0.029380   \n",
       "1                  0.353040                       -0.073957   \n",
       "2                  0.201885                        0.016944   \n",
       "3                  0.181998                       -0.019165   \n",
       "4                  0.256362                       -0.151648   \n",
       "\n",
       "   midlevel_features_rhythm_complexity  midlevel_features_rhythm_stability  \\\n",
       "0                            -0.303987                           -0.053306   \n",
       "1                            -0.381182                            0.120750   \n",
       "2                            -0.337422                            0.103853   \n",
       "3                            -0.314282                            0.118872   \n",
       "4                            -0.302913                           -0.002940   \n",
       "\n",
       "   midlevel_features_dissonance  midlevel_features_tonal_stability  \\\n",
       "0                     -0.325228                           0.347745   \n",
       "1                     -0.479266                           0.451572   \n",
       "2                     -0.388214                           0.430684   \n",
       "3                     -0.335902                           0.314371   \n",
       "4                     -0.395495                           0.368037   \n",
       "\n",
       "   midlevel_features_minorness  \n",
       "0                    -0.119278  \n",
       "1                    -0.064252  \n",
       "2                    -0.226197  \n",
       "3                    -0.006619  \n",
       "4                    -0.162711  \n",
       "\n",
       "[5 rows x 87 columns]"
      ]
     },
     "execution_count": 4,
     "metadata": {},
     "output_type": "execute_result"
    }
   ],
   "source": [
    "X.head()"
   ]
  },
  {
   "cell_type": "code",
   "execution_count": 5,
   "metadata": {},
   "outputs": [],
   "source": [
    "#split dataset into train and test data\n",
    "X_train, X_test, y_train, y_test = train_test_split(X, y, test_size=0.2, random_state=1, stratify=y)"
   ]
  },
  {
   "cell_type": "markdown",
   "metadata": {},
   "source": [
    "# Simple SVM (no normalization)"
   ]
  },
  {
   "cell_type": "code",
   "execution_count": 6,
   "metadata": {},
   "outputs": [
    {
     "data": {
      "text/plain": [
       "0.5287356321839081"
      ]
     },
     "execution_count": 6,
     "metadata": {},
     "output_type": "execute_result"
    }
   ],
   "source": [
    "# Create Support Vector Machine Classifier:\n",
    "clf = SVC()\n",
    "\n",
    "# Fit the classifier to the data\n",
    "clf.fit(X_train, y_train)\n",
    "\n",
    "clf.score(X_test, y_test)"
   ]
  },
  {
   "cell_type": "markdown",
   "metadata": {},
   "source": [
    "# Normalizing data drastically improves performance for SVM"
   ]
  },
  {
   "cell_type": "code",
   "execution_count": 7,
   "metadata": {},
   "outputs": [],
   "source": [
    "X_normalized = MinMaxScaler().fit_transform(X)\n",
    "\n",
    "\n",
    "X_train, X_test, y_train, y_test = train_test_split(X_normalized, y, test_size=0.2, random_state=1, stratify=y)"
   ]
  },
  {
   "cell_type": "code",
   "execution_count": 8,
   "metadata": {},
   "outputs": [
    {
     "data": {
      "text/plain": [
       "0.7298850574712644"
      ]
     },
     "execution_count": 8,
     "metadata": {},
     "output_type": "execute_result"
    }
   ],
   "source": [
    "# Fit the classifier to the normalized data\n",
    "clf.fit(X_train,y_train)\n",
    "\n",
    "clf.score(X_test, y_test)"
   ]
  },
  {
   "cell_type": "markdown",
   "metadata": {},
   "source": [
    "# SVM with Cross-Validation"
   ]
  },
  {
   "cell_type": "code",
   "execution_count": null,
   "metadata": {},
   "outputs": [],
   "source": [
    "# my computer is too slow for this:\n",
    "#param_grid = {'C': [0.1, 1, 10, 100], 'gamma': [1,0.1,0.01,0.001], 'kernel': ['rbf', 'poly', 'linear', 'sigmoid']}\n",
    "\n",
    "param_grid = {'C': [1, 10], 'gamma': [0.01], 'kernel': ['rbf', 'poly']}\n",
    "\n",
    "# setting number of cv-folds lower because SVM is so incredibly slow:\n",
    "gscv = GridSearchCV(clf, param_grid, cv=3, return_train_score=True, verbose=10)\n",
    "\n",
    "gscv.fit(X, y)\n",
    "\n",
    "scores_all_features = gscv.cv_results_[\"mean_test_score\"]\n",
    "\n",
    "print(\"### all 87 features, no normalization ###\")\n",
    "print(\"best params: \", gscv.best_params_, \"\\nbest score: \", gscv.best_score_, \"\\n\")\n"
   ]
  },
  {
   "cell_type": "code",
   "execution_count": null,
   "metadata": {},
   "outputs": [],
   "source": [
    "gscv_normalized = GridSearchCV(clf, param_grid, cv=5, return_train_score=True, verbose=10)\n",
    "\n",
    "gscv_normalized.fit(X_normalized, y)\n",
    "\n",
    "scores_all_features_normalized = gscv_normalized.cv_results_[\"mean_test_score\"]\n",
    "\n",
    "print(\"### all 87 features, normalized to [0, 1] ###\")\n",
    "print(\"best params:\", gscv_normalized.best_params_, \"\\nbest score: \", gscv_normalized.best_score_,  \"\\n\")"
   ]
  },
  {
   "cell_type": "markdown",
   "metadata": {},
   "source": [
    "# Evaluation"
   ]
  },
  {
   "cell_type": "code",
   "execution_count": null,
   "metadata": {},
   "outputs": [],
   "source": [
    "def plot_search_results(grid, title=\"Score per parameter\", log_list=[]):\n",
    "    \"\"\"\n",
    "    Params: \n",
    "        grid: A trained GridSearchCV object.\n",
    "    \"\"\"\n",
    "    ## Results from grid search\n",
    "    results = grid.cv_results_\n",
    "    means_test = results['mean_test_score']\n",
    "    stds_test = results['std_test_score']\n",
    "    means_train = results['mean_train_score']\n",
    "    stds_train = results['std_train_score']\n",
    "\n",
    "    ## Getting indexes of values per hyper-parameter\n",
    "    masks=[]\n",
    "    masks_names= list(grid.best_params_.keys())\n",
    "    for p_k, p_v in grid.best_params_.items():\n",
    "        masks.append(list(results['param_'+p_k].data==p_v))\n",
    "\n",
    "    params=grid.param_grid\n",
    "\n",
    "    ## Ploting results\n",
    "    fig, ax = plt.subplots(1,len(params),sharex='none', sharey='all',figsize=(20,5))\n",
    "    fig.suptitle(title, fontsize=26)\n",
    "    fig.text(0.04, 0.5, 'MEAN SCORE', va='center', rotation='vertical', fontsize=18)\n",
    "    pram_preformace_in_best = {}\n",
    "    for i, p in enumerate(masks_names):\n",
    "        m = np.stack(masks[:i] + masks[i+1:])\n",
    "        pram_preformace_in_best\n",
    "        best_parms_mask = m.all(axis=0)\n",
    "        best_index = np.where(best_parms_mask)[0]\n",
    "        x = np.array(params[p])\n",
    "        y_1 = np.array(means_test[best_index])\n",
    "        e_1 = np.array(stds_test[best_index])\n",
    "        y_2 = np.array(means_train[best_index])\n",
    "        e_2 = np.array(stds_train[best_index])\n",
    "        ax[i].errorbar(x, y_1, e_1, linestyle='--', marker='o', label='test')\n",
    "        ax[i].errorbar(x, y_2, e_2, linestyle='-', marker='^',label='train' )\n",
    "        ax[i].set_xlabel(p.upper(), fontsize=18)\n",
    "        if p in log_list: \n",
    "            ax[i].set_xscale('log')\n",
    "\n",
    "\n",
    "    plt.legend()\n",
    "    plt.show()\n",
    "\n"
   ]
  },
  {
   "cell_type": "code",
   "execution_count": null,
   "metadata": {},
   "outputs": [],
   "source": [
    "plot_search_results(gscv, title=\"Effects of Parameter Choice on Mean Test Score for SVM\")"
   ]
  },
  {
   "cell_type": "code",
   "execution_count": null,
   "metadata": {},
   "outputs": [],
   "source": [
    "plot_search_results(gscv_normalized, title=\"Effects of Parameter Choice on Mean Test Score for SVM (normalized data)\", log_list=[\"max_depth\"])"
   ]
  }
 ],
 "metadata": {
  "kernelspec": {
   "display_name": "Python 3",
   "language": "python",
   "name": "python3"
  },
  "language_info": {
   "codemirror_mode": {
    "name": "ipython",
    "version": 3
   },
   "file_extension": ".py",
   "mimetype": "text/x-python",
   "name": "python",
   "nbconvert_exporter": "python",
   "pygments_lexer": "ipython3",
   "version": "3.7.6"
  }
 },
 "nbformat": 4,
 "nbformat_minor": 4
}
