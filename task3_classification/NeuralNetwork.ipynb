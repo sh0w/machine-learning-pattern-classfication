{
 "cells": [
  {
   "cell_type": "markdown",
   "metadata": {},
   "source": [
    "# Contains Neural Network and IID Cross-Validation"
   ]
  },
  {
   "cell_type": "code",
   "execution_count": 1,
   "metadata": {},
   "outputs": [],
   "source": [
    "import numpy as np\n",
    "import pandas as pd\n",
    "\n",
    "from sklearn.neural_network import MLPClassifier\n",
    "from sklearn.model_selection import train_test_split"
   ]
  },
  {
   "cell_type": "code",
   "execution_count": 2,
   "metadata": {},
   "outputs": [],
   "source": [
    "#reading dataframe\n",
    "df = pd.read_csv(\"dataset/phase_3_TRAIN_7d499bff69ca69b6_6372c3e_MLPC2021_generic.csv\")"
   ]
  },
  {
   "cell_type": "code",
   "execution_count": 3,
   "metadata": {},
   "outputs": [],
   "source": [
    "# drop target value, student annotations and string ID from input features:\n",
    "X = df.drop(columns=['quadrant','mean_A','mean_V','id','score_mode','score_key_strength'])\n",
    "\n",
    "# we want to predict the quadrant:\n",
    "y = df['quadrant'].values"
   ]
  },
  {
   "cell_type": "code",
   "execution_count": 4,
   "metadata": {},
   "outputs": [
    {
     "data": {
      "text/html": [
       "<div>\n",
       "<style scoped>\n",
       "    .dataframe tbody tr th:only-of-type {\n",
       "        vertical-align: middle;\n",
       "    }\n",
       "\n",
       "    .dataframe tbody tr th {\n",
       "        vertical-align: top;\n",
       "    }\n",
       "\n",
       "    .dataframe thead th {\n",
       "        text-align: right;\n",
       "    }\n",
       "</style>\n",
       "<table border=\"1\" class=\"dataframe\">\n",
       "  <thead>\n",
       "    <tr style=\"text-align: right;\">\n",
       "      <th></th>\n",
       "      <th>id</th>\n",
       "      <th>Pianist</th>\n",
       "      <th>Piece_id</th>\n",
       "      <th>Snippet_number</th>\n",
       "    </tr>\n",
       "  </thead>\n",
       "  <tbody>\n",
       "    <tr>\n",
       "      <th>0</th>\n",
       "      <td>GG-01-000</td>\n",
       "      <td>GG</td>\n",
       "      <td>01</td>\n",
       "      <td>000</td>\n",
       "    </tr>\n",
       "    <tr>\n",
       "      <th>1</th>\n",
       "      <td>GG-01-001</td>\n",
       "      <td>GG</td>\n",
       "      <td>01</td>\n",
       "      <td>001</td>\n",
       "    </tr>\n",
       "    <tr>\n",
       "      <th>2</th>\n",
       "      <td>GG-01-002</td>\n",
       "      <td>GG</td>\n",
       "      <td>01</td>\n",
       "      <td>002</td>\n",
       "    </tr>\n",
       "    <tr>\n",
       "      <th>3</th>\n",
       "      <td>GG-01-003</td>\n",
       "      <td>GG</td>\n",
       "      <td>01</td>\n",
       "      <td>003</td>\n",
       "    </tr>\n",
       "    <tr>\n",
       "      <th>4</th>\n",
       "      <td>GG-01-004</td>\n",
       "      <td>GG</td>\n",
       "      <td>01</td>\n",
       "      <td>004</td>\n",
       "    </tr>\n",
       "  </tbody>\n",
       "</table>\n",
       "</div>"
      ],
      "text/plain": [
       "          id Pianist Piece_id Snippet_number\n",
       "0  GG-01-000      GG       01            000\n",
       "1  GG-01-001      GG       01            001\n",
       "2  GG-01-002      GG       01            002\n",
       "3  GG-01-003      GG       01            003\n",
       "4  GG-01-004      GG       01            004"
      ]
     },
     "execution_count": 4,
     "metadata": {},
     "output_type": "execute_result"
    }
   ],
   "source": [
    "#splitting by pianist and piecw!\n",
    "\n",
    "#create tags_dataframe:\n",
    "X_tags=pd.DataFrame()\n",
    "X_tags['id']=df['id']\n",
    "\n",
    "\n",
    "#extract piece_id and pianist to later allow by piece/pianist/both cross validation\n",
    "def extractPianist(x):\n",
    "    return x[0:2]\n",
    "def extract_piece_id(x):\n",
    "    return x[3:5]\n",
    "def extract_snippet_number(x):\n",
    "    return x[6:9]\n",
    "\n",
    "X_tags['Pianist']=X_tags['id'].apply(extractPianist)\n",
    "X_tags['Piece_id']=X_tags['id'].apply(extract_piece_id)\n",
    "X_tags['Snippet_number']=X_tags['id'].apply(extract_snippet_number)\n",
    "\n",
    "X_tags.head()"
   ]
  },
  {
   "cell_type": "code",
   "execution_count": 5,
   "metadata": {},
   "outputs": [
    {
     "data": {
      "text/plain": [
       "'SR'"
      ]
     },
     "execution_count": 5,
     "metadata": {},
     "output_type": "execute_result"
    }
   ],
   "source": [
    "#get list of pianists and pieces!\n",
    "pianist_list=list(set(X_tags['Pianist']))\n",
    "piece_list=list(set(X_tags['Piece_id']))\n",
    "pianist_list[0]"
   ]
  },
  {
   "cell_type": "code",
   "execution_count": 6,
   "metadata": {},
   "outputs": [],
   "source": [
    "#by pianist cross validation\n",
    "score=0\n",
    "for pianist in pianist_list:\n",
    "    mask1=X_tags['Pianist']!=pianist\n",
    "    mask2=X_tags['Pianist']==pianist\n",
    "    X_train, y_train=X[mask1],y[mask1]\n",
    "    X_test, y_test=X[mask2],y[mask2]\n",
    "    #print(X_train)\n",
    "    clf = MLPClassifier(random_state=1, max_iter=300).fit(X_train, y_train)\n",
    "    score+=clf.score(X_test, y_test)\n",
    "    #print(clf.score(X_test, y_test))"
   ]
  },
  {
   "cell_type": "code",
   "execution_count": 7,
   "metadata": {},
   "outputs": [
    {
     "name": "stdout",
     "output_type": "stream",
     "text": [
      "0.5113969192460408\n"
     ]
    }
   ],
   "source": [
    "pianist_cross_validation_score=score/len(pianist_list)\n",
    "print(pianist_cross_validation_score)"
   ]
  },
  {
   "cell_type": "code",
   "execution_count": 8,
   "metadata": {},
   "outputs": [],
   "source": [
    "#by piece cross validation\n",
    "#split dataset into train and test data\n",
    "score=0\n",
    "for piece in piece_list:\n",
    "    mask1=X_tags['Piece_id']!=piece\n",
    "    mask2=X_tags['Piece_id']==piece\n",
    "    #print(len(mask1))\n",
    "    X_train, y_train=X[mask1],y[mask1]\n",
    "    X_test, y_test=X[mask2],y[mask2]\n",
    "    clf = MLPClassifier(random_state=1, max_iter=300).fit(X_train, y_train)\n",
    "    score+=clf.score(X_test, y_test)\n",
    "    #print(clf.score(X_test, y_test))"
   ]
  },
  {
   "cell_type": "code",
   "execution_count": 9,
   "metadata": {},
   "outputs": [
    {
     "name": "stdout",
     "output_type": "stream",
     "text": [
      "0.40084637497575004\n"
     ]
    }
   ],
   "source": [
    "piece_cross_validation_score=score/len(piece_list)\n",
    "print(piece_cross_validation_score)"
   ]
  },
  {
   "cell_type": "code",
   "execution_count": 14,
   "metadata": {},
   "outputs": [
    {
     "name": "stdout",
     "output_type": "stream",
     "text": [
      "percent done: 4.62962962962963\n",
      "percent done: 9.25925925925926\n",
      "percent done: 13.88888888888889\n",
      "percent done: 18.51851851851852\n",
      "percent done: 23.14814814814815\n",
      "percent done: 27.77777777777778\n",
      "percent done: 32.407407407407405\n",
      "percent done: 37.03703703703704\n",
      "percent done: 41.66666666666667\n",
      "percent done: 46.2962962962963\n",
      "percent done: 50.92592592592593\n",
      "percent done: 55.55555555555556\n",
      "percent done: 60.18518518518518\n",
      "percent done: 64.81481481481481\n",
      "percent done: 69.44444444444444\n",
      "percent done: 74.07407407407408\n",
      "percent done: 78.70370370370371\n",
      "percent done: 83.33333333333334\n",
      "percent done: 87.96296296296296\n",
      "percent done: 92.5925925925926\n",
      "percent done: 97.22222222222221\n"
     ]
    }
   ],
   "source": [
    "#by piece and pianist cross validation\n",
    "#split dataset into train and test data\n",
    "score=0\n",
    "X_train, X_test, y_train, y_test = train_test_split(X, y, test_size=0.2, random_state=42, stratify=y)\n",
    "c=0\n",
    "for i, piece in enumerate(piece_list):\n",
    "    for j, pianist in enumerate(pianist_list):\n",
    "        c+=1\n",
    "        # we can not do ((X_tags['Piece_id'] ==piece) & (X_tags['Pianist']==pianist)) and !((X_tags['Piece_id'] ==piece) & (X_tags['Pianist']==pianist))\n",
    "        # because the we would have unwanted correaltions between \n",
    "        #((X_tags['Piece_id'] ==piece) & (X_tags['Pianist']==pianist))\n",
    "        #and ((X_tags['Piece_id'] !=piece) & (X_tags['Pianist']==pianist))\n",
    "        mask2 = ((X_tags['Piece_id'] ==piece) & (X_tags['Pianist']==pianist))\n",
    "        mask1 = ((X_tags['Piece_id'] !=piece) & (X_tags['Pianist']!=pianist))\n",
    "                         \n",
    "        X_train, y_train=X[mask1],y[mask1]\n",
    "        X_test, y_test=X[mask2],y[mask2]\n",
    "        #print(X_train)\n",
    "        clf = MLPClassifier(random_state=1, max_iter=300).fit(X_train, y_train)\n",
    "        score+=clf.score(X_test, y_test)\n",
    "        if c%10==0:\n",
    "            print(f'percent done: {(c)/(len(pianist_list)*len(piece_list))*100}')\n",
    "    \n"
   ]
  },
  {
   "cell_type": "code",
   "execution_count": 15,
   "metadata": {},
   "outputs": [
    {
     "name": "stdout",
     "output_type": "stream",
     "text": [
      "0.3824423747226514\n"
     ]
    }
   ],
   "source": [
    "both_cross_validation_score=score/(len(pianist_list)*len(piece_list))\n",
    "print(both_cross_validation_score)"
   ]
  },
  {
   "cell_type": "code",
   "execution_count": null,
   "metadata": {},
   "outputs": [],
   "source": [
    "# the score is slightly lower, but one must keep in mind,\n",
    "# that in order to eliminate all correlations between test and training set\n",
    "# we dropped (!pianist and piece) and (pianist and !piece) \n",
    "# in other words our training set size was quite a bit smaller!"
   ]
  }
 ],
 "metadata": {
  "kernelspec": {
   "display_name": "Python 3",
   "language": "python",
   "name": "python3"
  },
  "language_info": {
   "codemirror_mode": {
    "name": "ipython",
    "version": 3
   },
   "file_extension": ".py",
   "mimetype": "text/x-python",
   "name": "python",
   "nbconvert_exporter": "python",
   "pygments_lexer": "ipython3",
   "version": "3.8.5"
  }
 },
 "nbformat": 4,
 "nbformat_minor": 4
}
